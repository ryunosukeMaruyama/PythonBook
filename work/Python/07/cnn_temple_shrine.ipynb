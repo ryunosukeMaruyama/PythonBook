{
  "nbformat": 4,
  "nbformat_minor": 0,
  "metadata": {
    "colab": {
      "name": "Ch07-temple-shrine-cnn.ipynb",
      "version": "0.3.2",
      "provenance": [],
      "collapsed_sections": []
    },
    "kernelspec": {
      "name": "python3",
      "display_name": "Python 3"
    },
    "accelerator": "GPU"
  },
  "cells": [
    {
      "cell_type": "code",
      "metadata": {
        "id": "HRoy_vzj83WJ",
        "colab_type": "code",
        "colab": {}
      },
      "source": [
        "from keras.datasets import mnist\n",
        "from keras.utils import to_categorical\n",
        "\n",
        "from keras.layers import Conv2D, MaxPool2D, Flatten, Dense\n",
        "from keras.models import Sequential\n",
        "from keras.models import load_model\n",
        "\n",
        "import matplotlib.pyplot as plt\n",
        "from PIL import Image\n",
        "import os\n",
        "import numpy as np\n",
        "from sklearn.model_selection import train_test_split"
      ],
      "execution_count": 0,
      "outputs": []
    },
    {
      "cell_type": "code",
      "metadata": {
        "id": "lkcJwKDJ4vuV",
        "colab_type": "code",
        "colab": {}
      },
      "source": [
        "# Google ドライブをマウントするには、このセルを実行してください。\n",
        "from google.colab import drive\n",
        "drive.mount('/content/drive/')"
      ],
      "execution_count": 0,
      "outputs": []
    },
    {
      "cell_type": "markdown",
      "metadata": {
        "id": "gbGo22SlK0E0",
        "colab_type": "text"
      },
      "source": [
        "## データ読み込み"
      ]
    },
    {
      "cell_type": "code",
      "metadata": {
        "id": "rzob7zR3uw9D",
        "colab_type": "code",
        "colab": {}
      },
      "source": [
        "X = []\n",
        "Y = []\n",
        "image_size = 30\n",
        "\n",
        "folder_path = \"/content/drive/My Drive/PythonBooks/src/Ch07/images/\"\n",
        "file_list = os.listdir(folder_path)"
      ],
      "execution_count": 0,
      "outputs": []
    },
    {
      "cell_type": "code",
      "metadata": {
        "id": "aG-mpkDNKzoJ",
        "colab_type": "code",
        "colab": {}
      },
      "source": [
        "for file in file_list:\n",
        "    try:\n",
        "        image = Image.open(folder_path + file)\n",
        "    except:\n",
        "        print('error', file)\n",
        "        continue\n",
        "    \n",
        "    image = image.convert(\"RGB\")\n",
        "    image = image.resize((image_size, image_size))\n",
        "    data = np.asarray(image)\n",
        "    X.append(data)\n",
        "    if 'temple' in file:\n",
        "        Y.append(0)\n",
        "    else:\n",
        "         Y.append(1)\n",
        "\n",
        "X = np.array(X)\n",
        "Y = np.array(Y)"
      ],
      "execution_count": 0,
      "outputs": []
    },
    {
      "cell_type": "markdown",
      "metadata": {
        "id": "hoPt9AcDP5KW",
        "colab_type": "text"
      },
      "source": [
        "### データ整形"
      ]
    },
    {
      "cell_type": "code",
      "metadata": {
        "id": "uogTTc6oBsd0",
        "colab_type": "code",
        "colab": {}
      },
      "source": [
        "X_train, X_test, y_train, y_test = train_test_split(X, Y, test_size=0.25)\n",
        "# 画像をreshape\n",
        "X_train = X_train.reshape(-1, image_size, image_size, 3)\n",
        "X_test = X_test.reshape(-1, image_size, image_size, 3)\n",
        "\n",
        "# 輝度値を0 ~ 1に入るように正規化\n",
        "X_train = X_train.astype('float32')/255\n",
        "X_test = X_test.astype('float32')/255\n",
        "\n",
        "# one hot encoding\n",
        "y_train = to_categorical(y_train)\n",
        "y_test = to_categorical(y_test)"
      ],
      "execution_count": 0,
      "outputs": []
    },
    {
      "cell_type": "markdown",
      "metadata": {
        "id": "e4VxBZMxQPl6",
        "colab_type": "text"
      },
      "source": [
        "## モデル作成"
      ]
    },
    {
      "cell_type": "code",
      "metadata": {
        "id": "rQ3yfGfH_at7",
        "colab_type": "code",
        "colab": {}
      },
      "source": [
        "model_cnn = Sequential()\n",
        "model_cnn.add(Conv2D(32, (3,3), activation='relu', input_shape=(image_size, image_size, 3)))\n",
        "model_cnn.add(MaxPool2D(2,2))\n",
        "model_cnn.add(Conv2D(64, (3,3), activation='relu'))\n",
        "model_cnn.add(MaxPool2D(2,2))\n",
        "model_cnn.add(Conv2D(128, (3,3), activation='relu'))\n",
        "model_cnn.add(MaxPool2D(2,2))\n",
        "model_cnn.add(Flatten())\n",
        "model_cnn.add(Dense(512, activation='relu'))       \n",
        "model_cnn.add(Dense(2, activation='softmax'))\n",
        "\n",
        "model_cnn.summary()"
      ],
      "execution_count": 0,
      "outputs": []
    },
    {
      "cell_type": "code",
      "metadata": {
        "id": "izLnujUXKjXy",
        "colab_type": "code",
        "colab": {}
      },
      "source": [
        "model_cnn.compile(optimizer='Adam', loss='categorical_crossentropy', metrics=['accuracy'])\n",
        "model_cnn.fit(X_train, y_train, epochs=10, batch_size=20)\n",
        "\n",
        "model_cnn.evaluate(X_test, y_test)"
      ],
      "execution_count": 0,
      "outputs": []
    },
    {
      "cell_type": "code",
      "metadata": {
        "id": "Fi-ZodmOJ0I1",
        "colab_type": "code",
        "colab": {}
      },
      "source": [
        ""
      ],
      "execution_count": 0,
      "outputs": []
    }
  ]
}