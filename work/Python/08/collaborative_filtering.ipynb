{
  "nbformat": 4,
  "nbformat_minor": 0,
  "metadata": {
    "colab": {
      "name": "Ch08-Collaborative-filtering.ipynb",
      "version": "0.3.2",
      "provenance": [],
      "collapsed_sections": [],
      "toc_visible": true
    },
    "kernelspec": {
      "name": "python3",
      "display_name": "Python 3"
    }
  },
  "cells": [
    {
      "cell_type": "code",
      "metadata": {
        "id": "GJcUJGK-7KIQ",
        "colab_type": "code",
        "colab": {}
      },
      "source": [
        "import pandas as pd\n",
        "import numpy as np\n",
        "\n",
        "from sklearn.metrics.pairwise import cosine_similarity"
      ],
      "execution_count": 0,
      "outputs": []
    },
    {
      "cell_type": "markdown",
      "metadata": {
        "id": "ZMFk_sBO9SPj",
        "colab_type": "text"
      },
      "source": [
        "## データ読み込み"
      ]
    },
    {
      "cell_type": "code",
      "metadata": {
        "id": "36vbv-1y7b2B",
        "colab_type": "code",
        "colab": {}
      },
      "source": [
        "cols_name = ['user_id','item_id','rating','timestamp']\n",
        "data_movie = pd.read_csv('u.data', names=cols_name, sep=\"\\t\")\n",
        "print(data_movie.head())"
      ],
      "execution_count": 0,
      "outputs": []
    },
    {
      "cell_type": "code",
      "metadata": {
        "id": "7U5GlXH79PML",
        "colab_type": "code",
        "colab": {}
      },
      "source": [
        "movie_rating = data_movie.pivot(index='user_id', columns='item_id', values='rating').fillna(0).as_matrix()\n",
        "print(movie_rating[0:5])\n",
        "print(movie_rating.shape)"
      ],
      "execution_count": 0,
      "outputs": []
    },
    {
      "cell_type": "markdown",
      "metadata": {
        "id": "Z5TLFkyWptmk",
        "colab_type": "text"
      },
      "source": [
        "## コサイン類似度計算"
      ]
    },
    {
      "cell_type": "code",
      "metadata": {
        "id": "gCm59y0L9g_-",
        "colab_type": "code",
        "colab": {}
      },
      "source": [
        "cos_sim = cosine_similarity(movie_rating, movie_rating)\n",
        "print(cos_sim[:5])\n",
        "print(cos_sim.shape)"
      ],
      "execution_count": 0,
      "outputs": []
    },
    {
      "cell_type": "markdown",
      "metadata": {
        "id": "nCT49DY4vBNp",
        "colab_type": "text"
      },
      "source": [
        "## レコメンド"
      ]
    },
    {
      "cell_type": "code",
      "metadata": {
        "id": "4mW_F4RE9cDB",
        "colab_type": "code",
        "colab": {}
      },
      "source": [
        "# ユーザー1との類似度\n",
        "cos_sim_for_user_1 = cos_sim[0]\n",
        "# ユーザー1と類似度の高いユーザー10人のインデックスを抽出\n",
        "similar_user = np.argsort(cos_sim_for_user_1)[-11:-1]\n",
        "print(similar_user)"
      ],
      "execution_count": 0,
      "outputs": []
    },
    {
      "cell_type": "code",
      "metadata": {
        "id": "BQowdy38RBqn",
        "colab_type": "code",
        "colab": {}
      },
      "source": [
        "print(cos_sim_for_user_1[similar_user])"
      ],
      "execution_count": 0,
      "outputs": []
    },
    {
      "cell_type": "code",
      "metadata": {
        "id": "ABhcpLBt9mbv",
        "colab_type": "code",
        "colab": {}
      },
      "source": [
        "# 類似度の高いユーザーの映画評価値\n",
        "movie_rating_of_similar_user = movie_rating[similar_user]\n",
        "print(movie_rating_of_similar_user)"
      ],
      "execution_count": 0,
      "outputs": []
    },
    {
      "cell_type": "code",
      "metadata": {
        "id": "jfcEIQFvze1o",
        "colab_type": "code",
        "colab": {}
      },
      "source": [
        "# 重みづけされた評価値を計算\n",
        "weighted_movie_rating = movie_rating_of_similar_user * cos_sim_for_user_1[similar_user].reshape(-1, 1)\n",
        "print(weighted_movie_rating)"
      ],
      "execution_count": 0,
      "outputs": []
    },
    {
      "cell_type": "code",
      "metadata": {
        "id": "Li21_3bb9oTf",
        "colab_type": "code",
        "colab": {}
      },
      "source": [
        "# 各映画のレコメンド値を計算\n",
        "mean_weighted_movie_rating = weighted_movie_rating.mean(axis=0)\n",
        "print(mean_weighted_movie_rating)"
      ],
      "execution_count": 0,
      "outputs": []
    },
    {
      "cell_type": "code",
      "metadata": {
        "id": "d8MqIyjv9_1l",
        "colab_type": "code",
        "colab": {}
      },
      "source": [
        "#ユーザー１の評価と加重平均スコアを列とするデータフレーム作成\n",
        "recommend_values = pd.DataFrame({'user_1_score':movie_rating[0], 'recommend_value':mean_weighted_movie_rating})\n",
        "print(recommend_values.head())"
      ],
      "execution_count": 0,
      "outputs": []
    },
    {
      "cell_type": "code",
      "metadata": {
        "id": "1bqd0849-CWB",
        "colab_type": "code",
        "colab": {}
      },
      "source": [
        "#未評価のうちスコアの高い上位10件を抽出\n",
        "recommend_values[recommend_values['user_1_score'] == 0].sort_values('recommend_value', ascending=False).head(10)"
      ],
      "execution_count": 0,
      "outputs": []
    },
    {
      "cell_type": "code",
      "metadata": {
        "id": "h5C7u5Y9wy8_",
        "colab_type": "code",
        "colab": {}
      },
      "source": [
        ""
      ],
      "execution_count": 0,
      "outputs": []
    }
  ]
}