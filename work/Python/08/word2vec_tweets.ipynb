{
  "nbformat": 4,
  "nbformat_minor": 0,
  "metadata": {
    "colab": {
      "name": "Ch08_word2vec.ipynb のコピー",
      "version": "0.3.2",
      "provenance": [],
      "collapsed_sections": [],
      "toc_visible": true
    },
    "kernelspec": {
      "name": "python3",
      "display_name": "Python 3"
    }
  },
  "cells": [
    {
      "cell_type": "code",
      "metadata": {
        "id": "4o7bonIQ-7eN",
        "colab_type": "code",
        "colab": {}
      },
      "source": [
        "import json\n",
        "import requests\n",
        "from requests_oauthlib import OAuth1\n",
        "import re\n",
        "from google.colab import files\n",
        "\n",
        "\n",
        "# 取得したkeyを定義\n",
        "access_token = 'xxxxxxxx'\n",
        "access_token_secret = 'xxxxxxxx'\n",
        "consumer_key = 'xxxxxxxx'\n",
        "consumer_key_secret = 'xxxxxxxx'\n",
        "\n",
        "url = \"https://stream.twitter.com/1.1/statuses/sample.json?language=ja\"\n",
        "\n",
        "# OAuth で GET\n",
        "twitter = OAuth1(consumer_key, consumer_key_secret, access_token, access_token_secret)"
      ],
      "execution_count": 0,
      "outputs": []
    },
    {
      "cell_type": "code",
      "metadata": {
        "id": "nILqdz0jeTaF",
        "colab_type": "code",
        "colab": {}
      },
      "source": [
        "def normalize_text(text):\n",
        "    text = re.sub(r'https?://[\\w/:%#\\$&\\?\\(\\)~\\.=\\+\\-…]+', \"\", text)\n",
        "    text = re.sub('RT', \"\", text)\n",
        "    text = re.sub('お気に入り', \"\", text)\n",
        "    text = re.sub('まとめ', \"\", text)\n",
        "    text = re.sub(r'[!-~]', \"\", text)\n",
        "    text = re.sub(r'[︰-＠]', \"\", text)\n",
        "    text = re.sub('\\u3000',\"\", text)\n",
        "    text = re.sub('\\t', \"\", text)\n",
        "    text = re.sub('\\n', \"\", text)\n",
        "\n",
        "    text = text.strip()\n",
        "    return text"
      ],
      "execution_count": 0,
      "outputs": []
    },
    {
      "cell_type": "code",
      "metadata": {
        "id": "kVb27XwPeVoY",
        "colab_type": "code",
        "colab": {}
      },
      "source": [
        "url = \"https://stream.twitter.com/1.1/statuses/sample.json?language=ja\"\n",
        "\n",
        "with open('public_text_twitter.tsv','a', encoding='utf-8') as f:\n",
        "    res = requests.get(url, auth=twitter, stream=True)\n",
        "    for r in res.iter_lines():\n",
        "        try:\n",
        "            r_json = json.loads(r)\n",
        "            text = r_json['text']\n",
        "            f.write(normalize_text(text) + '\\n')\n",
        "        except:\n",
        "            continue"
      ],
      "execution_count": 0,
      "outputs": []
    },
    {
      "cell_type": "code",
      "metadata": {
        "id": "UYWv6fpGIzj6",
        "colab_type": "code",
        "colab": {}
      },
      "source": [
        "files.download('public_text_twitter.tsv')"
      ],
      "execution_count": 0,
      "outputs": []
    },
    {
      "cell_type": "markdown",
      "metadata": {
        "id": "A3yyvf-tmW-q",
        "colab_type": "text"
      },
      "source": [
        "## word2vec 実践"
      ]
    },
    {
      "cell_type": "code",
      "metadata": {
        "id": "3mpQrwtNeGOu",
        "colab_type": "code",
        "colab": {}
      },
      "source": [
        "# mecabインストール\n",
        "!apt install aptitude\n",
        "!aptitude install mecab libmecab-dev mecab-ipadic-utf8 git make curl xz-utils file -y\n",
        "\n",
        "# mecab pythonインストール（pythonでmecabを動かすために必要)\n",
        "!pip install mecab-python3==0.7\n",
        "\n",
        "# neologd辞書インストール\n",
        "!git clone --depth 1 https://github.com/neologd/mecab-ipadic-neologd.git\n",
        "!echo yes | mecab-ipadic-neologd/bin/install-mecab-ipadic-neologd -n"
      ],
      "execution_count": 0,
      "outputs": []
    },
    {
      "cell_type": "markdown",
      "metadata": {
        "id": "gcy-DRiosnJz",
        "colab_type": "text"
      },
      "source": [
        ""
      ]
    },
    {
      "cell_type": "code",
      "metadata": {
        "id": "2NJPcNzrYTKv",
        "colab_type": "code",
        "colab": {}
      },
      "source": [
        "# 辞書変更\n",
        "!sed -e \"s!/var/lib/mecab/dic/debian!/usr/lib/x86_64-linux-gnu/mecab/dic/mecab-ipadic-neologd!g\" /etc/mecabrc  > /etc/mecabrc.new\n",
        "!cp /etc/mecabrc /etc/mecabrc.org\n",
        "!cp /etc/mecabrc.new /etc/mecabrc"
      ],
      "execution_count": 0,
      "outputs": []
    },
    {
      "cell_type": "code",
      "metadata": {
        "id": "y-QwAOeovcLI",
        "colab_type": "code",
        "colab": {}
      },
      "source": [
        "import MeCab\n",
        "import pandas as pd\n",
        "import unicodedata\n",
        "from gensim.models import word2vec"
      ],
      "execution_count": 0,
      "outputs": []
    },
    {
      "cell_type": "code",
      "metadata": {
        "id": "PWzcuYrDwtwu",
        "colab_type": "code",
        "colab": {}
      },
      "source": [
        "# データ　インポート\n",
        "df = pd.read_csv('public_text_twitter.tsv', sep='\\t', names=['text'])\n",
        "text_lists = df['text'].unique().tolist()\n",
        "\n",
        "mt = MeCab.Tagger(\"-Ochasen\") "
      ],
      "execution_count": 0,
      "outputs": []
    },
    {
      "cell_type": "code",
      "metadata": {
        "id": "ge1qpQLyJdZJ",
        "colab_type": "code",
        "colab": {}
      },
      "source": [
        "word_pos = ('名詞', '形容詞')\n",
        "\n",
        "with open('public_text_splited.txt', 'w', encoding='utf-8') as f:\n",
        "    for text in text_lists:\n",
        "        tmp_lists = []\n",
        "        text = unicodedata.normalize('NFKC', str(text))\n",
        "        \n",
        "        node = mt.parseToNode(text)\n",
        "        while node:\n",
        "            if node.feature.startswith(word_pos) and ',非自立,' not in node.feature:\n",
        "                tmp_lists.append(node.surface)\n",
        "            \n",
        "            node = node.next\n",
        "                \n",
        "        f.write(' '.join(tmp_lists) + '\\n')"
      ],
      "execution_count": 0,
      "outputs": []
    },
    {
      "cell_type": "code",
      "metadata": {
        "id": "_sfShPFtw4GV",
        "colab_type": "code",
        "colab": {}
      },
      "source": [
        "sentences = word2vec.LineSentence('public_text_splited.txt')\n",
        "model = word2vec.Word2Vec(sentences,\n",
        "                          sg=1,         #0: CBOW, 1: skip-gram\n",
        "                          size=200,     # ベクトルの次元数\n",
        "                          window=3,    # 入力単語からの最大距離\n",
        "                          min_count=5,  # 単語の出現回数でフィルタリング\n",
        "                          )"
      ],
      "execution_count": 0,
      "outputs": []
    },
    {
      "cell_type": "code",
      "metadata": {
        "id": "A71Y2Jk5YnMJ",
        "colab_type": "code",
        "colab": {}
      },
      "source": [
        "model.most_similar(positive='人生', topn=20)"
      ],
      "execution_count": 0,
      "outputs": []
    },
    {
      "cell_type": "code",
      "metadata": {
        "id": "rb45klcguFS1",
        "colab_type": "code",
        "colab": {}
      },
      "source": [
        ""
      ],
      "execution_count": 0,
      "outputs": []
    }
  ]
}