{
  "nbformat": 4,
  "nbformat_minor": 0,
  "metadata": {
    "colab": {
      "name": "Ch05-prefecture-pca.ipynb",
      "version": "0.3.2",
      "provenance": [],
      "collapsed_sections": [],
      "toc_visible": true
    },
    "kernelspec": {
      "name": "python3",
      "display_name": "Python 3"
    }
  },
  "cells": [
    {
      "cell_type": "code",
      "metadata": {
        "id": "3yZ2JWsv13Yj",
        "colab_type": "code",
        "colab": {}
      },
      "source": [
        "import numpy as np\n",
        "import pandas as pd\n",
        "import matplotlib.pyplot as plt\n",
        "%matplotlib inline\n",
        "from mpl_toolkits.mplot3d import Axes3D\n",
        "\n",
        "from sklearn.decomposition import PCA\n",
        "from sklearn.preprocessing import StandardScaler"
      ],
      "execution_count": 0,
      "outputs": []
    },
    {
      "cell_type": "code",
      "metadata": {
        "id": "P8nKuedD6WiW",
        "colab_type": "code",
        "colab": {}
      },
      "source": [
        "data_prefecture = pd.read_csv(\"data_prefecture_category.csv\", encoding='utf-8', index_col=0)"
      ],
      "execution_count": 0,
      "outputs": []
    },
    {
      "cell_type": "code",
      "metadata": {
        "id": "ysoFHIiR6Ydc",
        "colab_type": "code",
        "colab": {}
      },
      "source": [
        "print(data_prefecture.head())"
      ],
      "execution_count": 0,
      "outputs": []
    },
    {
      "cell_type": "code",
      "metadata": {
        "id": "nfoP6S_L6a1E",
        "colab_type": "code",
        "colab": {}
      },
      "source": [
        "# カンマ区切りの文字列を数値に変換\n",
        "data_prefecture_float = data_prefecture.apply(lambda x: x.str.replace(',','')).astype(np.float)"
      ],
      "execution_count": 0,
      "outputs": []
    },
    {
      "cell_type": "code",
      "metadata": {
        "id": "cLrqPSPR6cfO",
        "colab_type": "code",
        "colab": {}
      },
      "source": [
        "print(data_prefecture_float.head())"
      ],
      "execution_count": 0,
      "outputs": []
    },
    {
      "cell_type": "code",
      "metadata": {
        "id": "vHLhXKXl6eBq",
        "colab_type": "code",
        "colab": {}
      },
      "source": [
        "plt.hist(data_prefecture_float[\"食料\"])"
      ],
      "execution_count": 0,
      "outputs": []
    },
    {
      "cell_type": "code",
      "metadata": {
        "id": "k_HpeCwo6fi_",
        "colab_type": "code",
        "colab": {}
      },
      "source": [
        "plt.hist(data_prefecture_float[\"住居\"])"
      ],
      "execution_count": 0,
      "outputs": []
    },
    {
      "cell_type": "code",
      "metadata": {
        "id": "R-znSRyI6hGz",
        "colab_type": "code",
        "colab": {}
      },
      "source": [
        "plt.hist(data_prefecture_float[\"教育\"])"
      ],
      "execution_count": 0,
      "outputs": []
    },
    {
      "cell_type": "markdown",
      "metadata": {
        "id": "cPdr4CGA6lHX",
        "colab_type": "text"
      },
      "source": [
        "## 主成分分析"
      ]
    },
    {
      "cell_type": "code",
      "metadata": {
        "id": "OfIoWjir6xRr",
        "colab_type": "code",
        "colab": {}
      },
      "source": [
        "# 標準化\n",
        "\n",
        "scaler = StandardScaler()\n",
        "data_std = scaler.fit_transform(data_prefecture_float)"
      ],
      "execution_count": 0,
      "outputs": []
    },
    {
      "cell_type": "code",
      "metadata": {
        "id": "L7oIaSiW6im3",
        "colab_type": "code",
        "colab": {}
      },
      "source": [
        "pca = PCA(n_components=2)\n",
        "pca_transformed = pca.fit_transform(data_std)"
      ],
      "execution_count": 0,
      "outputs": []
    },
    {
      "cell_type": "code",
      "metadata": {
        "id": "wOIjtLG86tt8",
        "colab_type": "code",
        "colab": {}
      },
      "source": [
        "plt.scatter(pca_transformed[:, 0], pca_transformed[:, 1])"
      ],
      "execution_count": 0,
      "outputs": []
    },
    {
      "cell_type": "code",
      "metadata": {
        "id": "SCB9i_hMBqs6",
        "colab_type": "code",
        "colab": {}
      },
      "source": [
        "fig, ax = plt.subplots(figsize=(14, 8))\n",
        "\n",
        "plt.scatter(pca_transformed[:, 0], pca_transformed[:, 1])\n",
        "for k, v in enumerate(pca_transformed):\n",
        "    ax.annotate(k, xy=(v[0],v[1]),size=10)"
      ],
      "execution_count": 0,
      "outputs": []
    },
    {
      "cell_type": "code",
      "metadata": {
        "id": "YiLk33xLDVFr",
        "colab_type": "code",
        "colab": {}
      },
      "source": [
        "for i in range(data_prefecture_float.shape[0]):\n",
        "    print(i, data_prefecture_float.index[i])"
      ],
      "execution_count": 0,
      "outputs": []
    },
    {
      "cell_type": "markdown",
      "metadata": {
        "id": "BkgQjkFB64sH",
        "colab_type": "text"
      },
      "source": [
        "### 寄与度"
      ]
    },
    {
      "cell_type": "code",
      "metadata": {
        "id": "lk5wlzgG61GO",
        "colab_type": "code",
        "colab": {}
      },
      "source": [
        "print(pca.explained_variance_ratio_)"
      ],
      "execution_count": 0,
      "outputs": []
    },
    {
      "cell_type": "code",
      "metadata": {
        "id": "TEDtVFMk65tW",
        "colab_type": "code",
        "colab": {}
      },
      "source": [
        "print(sum(pca.explained_variance_ratio_))"
      ],
      "execution_count": 0,
      "outputs": []
    },
    {
      "cell_type": "markdown",
      "metadata": {
        "id": "lLDsFaTT7I6W",
        "colab_type": "text"
      },
      "source": [
        "### 次元を増やす"
      ]
    },
    {
      "cell_type": "code",
      "metadata": {
        "id": "A7SvxLRz67UA",
        "colab_type": "code",
        "colab": {}
      },
      "source": [
        "pca2 = PCA(n_components=3)\n",
        "pca2_transformed = pca2.fit_transform(data_std)"
      ],
      "execution_count": 0,
      "outputs": []
    },
    {
      "cell_type": "code",
      "metadata": {
        "id": "ECpeAHo16_pw",
        "colab_type": "code",
        "colab": {}
      },
      "source": [
        "print(sum(pca2.explained_variance_ratio_))"
      ],
      "execution_count": 0,
      "outputs": []
    },
    {
      "cell_type": "code",
      "metadata": {
        "id": "z9t9BTuz7UG5",
        "colab_type": "code",
        "colab": {}
      },
      "source": [
        "print(pca2.explained_variance_ratio_)"
      ],
      "execution_count": 0,
      "outputs": []
    },
    {
      "cell_type": "code",
      "metadata": {
        "id": "ExQFfXh-8ISK",
        "colab_type": "code",
        "colab": {}
      },
      "source": [
        "fig = plt.figure()\n",
        "ax = fig.add_subplot(111, projection='3d')\n",
        "ax.scatter3D(pca2_transformed[:, 0], pca2_transformed[:, 1], pca2_transformed[:, 2])\n",
        "ax.set_title(\"Scatter Plot\")\n",
        "ax.view_init(40, 100)\n",
        "\n",
        "\n",
        "plt.show()"
      ],
      "execution_count": 0,
      "outputs": []
    },
    {
      "cell_type": "code",
      "metadata": {
        "id": "N8JmfSnXzSww",
        "colab_type": "code",
        "colab": {}
      },
      "source": [
        "pca2_transformed"
      ],
      "execution_count": 0,
      "outputs": []
    },
    {
      "cell_type": "code",
      "metadata": {
        "id": "ihqW-C3e00c-",
        "colab_type": "code",
        "colab": {}
      },
      "source": [
        ""
      ],
      "execution_count": 0,
      "outputs": []
    }
  ]
}