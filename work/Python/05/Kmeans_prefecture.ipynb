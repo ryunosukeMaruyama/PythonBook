{
  "nbformat": 4,
  "nbformat_minor": 0,
  "metadata": {
    "colab": {
      "name": "Ch05-prefecture-Kmeans.ipynb",
      "version": "0.3.2",
      "provenance": [],
      "collapsed_sections": []
    },
    "kernelspec": {
      "name": "python3",
      "display_name": "Python 3"
    }
  },
  "cells": [
    {
      "cell_type": "code",
      "metadata": {
        "id": "fjn-xOmMcOZd",
        "colab_type": "code",
        "colab": {}
      },
      "source": [
        "import numpy as np\n",
        "import pandas as pd\n",
        "import matplotlib.pyplot as plt\n",
        "%matplotlib inline\n",
        "\n",
        "from sklearn.cluster import KMeans\n",
        "from sklearn.preprocessing import StandardScaler"
      ],
      "execution_count": 0,
      "outputs": []
    },
    {
      "cell_type": "markdown",
      "metadata": {
        "id": "6KjYW74wx4yT",
        "colab_type": "text"
      },
      "source": [
        "## データ読み込み"
      ]
    },
    {
      "cell_type": "code",
      "metadata": {
        "id": "ALMzMhn9hn9Y",
        "colab_type": "code",
        "colab": {}
      },
      "source": [
        "data_prefecture = pd.read_csv(\"data_prefecture_category.csv\", encoding='utf-8', index_col=0)"
      ],
      "execution_count": 0,
      "outputs": []
    },
    {
      "cell_type": "code",
      "metadata": {
        "id": "PLw8rXe-huZ2",
        "colab_type": "code",
        "colab": {}
      },
      "source": [
        "print(data_prefecture.head())"
      ],
      "execution_count": 0,
      "outputs": []
    },
    {
      "cell_type": "code",
      "metadata": {
        "id": "lEJwvHBWkqkT",
        "colab_type": "code",
        "colab": {}
      },
      "source": [
        "# カンマ区切りの文字列を数値に変換\n",
        "data_prefecture_float = data_prefecture.apply(lambda x: x.str.replace(',','')).astype(np.float)"
      ],
      "execution_count": 0,
      "outputs": []
    },
    {
      "cell_type": "code",
      "metadata": {
        "id": "kx_SRyvpkAkX",
        "colab_type": "code",
        "colab": {}
      },
      "source": [
        "print(data_prefecture_float.head())"
      ],
      "execution_count": 0,
      "outputs": []
    },
    {
      "cell_type": "markdown",
      "metadata": {
        "id": "oT_9YoHPyXaN",
        "colab_type": "text"
      },
      "source": [
        "## 可視化"
      ]
    },
    {
      "cell_type": "code",
      "metadata": {
        "id": "7DKDD7tnyDWD",
        "colab_type": "code",
        "colab": {}
      },
      "source": [
        "plt.hist(data_prefecture_float[\"食料\"])"
      ],
      "execution_count": 0,
      "outputs": []
    },
    {
      "cell_type": "code",
      "metadata": {
        "id": "BLvnLvHHzZM0",
        "colab_type": "code",
        "colab": {}
      },
      "source": [
        "plt.hist(data_prefecture_float[\"住居\"])"
      ],
      "execution_count": 0,
      "outputs": []
    },
    {
      "cell_type": "code",
      "metadata": {
        "id": "ZntDAgVqzb1T",
        "colab_type": "code",
        "colab": {}
      },
      "source": [
        "plt.hist(data_prefecture_float[\"教育\"])"
      ],
      "execution_count": 0,
      "outputs": []
    },
    {
      "cell_type": "markdown",
      "metadata": {
        "id": "K0v4nSjbzkiv",
        "colab_type": "text"
      },
      "source": [
        "## K平均法"
      ]
    },
    {
      "cell_type": "code",
      "metadata": {
        "id": "IRDfZM0UyhNq",
        "colab_type": "code",
        "colab": {}
      },
      "source": [
        "# 標準化\n",
        "scaler = StandardScaler()\n",
        "data_std = scaler.fit_transform(data_prefecture_float)"
      ],
      "execution_count": 0,
      "outputs": []
    },
    {
      "cell_type": "code",
      "metadata": {
        "id": "B5b6usAMi4_n",
        "colab_type": "code",
        "colab": {}
      },
      "source": [
        "k_means = KMeans(n_clusters=4)\n",
        "k_means.fit(data_std)"
      ],
      "execution_count": 0,
      "outputs": []
    },
    {
      "cell_type": "code",
      "metadata": {
        "id": "Wn-OuwSblxXP",
        "colab_type": "code",
        "colab": {}
      },
      "source": [
        "print(k_means.labels_)"
      ],
      "execution_count": 0,
      "outputs": []
    },
    {
      "cell_type": "code",
      "metadata": {
        "id": "EX6_rR_BlzbB",
        "colab_type": "code",
        "colab": {}
      },
      "source": [
        "data_prefecture_float[\"label\"] = k_means.labels_"
      ],
      "execution_count": 0,
      "outputs": []
    },
    {
      "cell_type": "code",
      "metadata": {
        "id": "CF-wfz-Jl9xp",
        "colab_type": "code",
        "colab": {}
      },
      "source": [
        "print(data_prefecture_float[data_prefecture_float[\"label\"] == 0][\"label\"])\n"
      ],
      "execution_count": 0,
      "outputs": []
    },
    {
      "cell_type": "code",
      "metadata": {
        "id": "AQS_ADfDngAX",
        "colab_type": "code",
        "colab": {}
      },
      "source": [
        "print(data_prefecture_float[data_prefecture_float[\"label\"] == 1][\"label\"])\n",
        "print(data_prefecture_float[data_prefecture_float[\"label\"] == 2][\"label\"])\n",
        "print(data_prefecture_float[data_prefecture_float[\"label\"] == 3][\"label\"])"
      ],
      "execution_count": 0,
      "outputs": []
    },
    {
      "cell_type": "code",
      "metadata": {
        "id": "OagBxk02mVXC",
        "colab_type": "code",
        "colab": {}
      },
      "source": [
        "# クラスターごとの平均値を計算して、一つのDataFrameに格納する\n",
        "k_means_feature = pd.concat([data_prefecture_float[data_prefecture_float[\"label\"] == 0].mean(), \n",
        "                             data_prefecture_float[data_prefecture_float[\"label\"] == 1].mean(),\n",
        "                             data_prefecture_float[data_prefecture_float[\"label\"] == 2].mean(), \n",
        "                             data_prefecture_float[data_prefecture_float[\"label\"] == 3].mean()], axis = 1)"
      ],
      "execution_count": 0,
      "outputs": []
    },
    {
      "cell_type": "code",
      "metadata": {
        "id": "0DRA0HkEm2pX",
        "colab_type": "code",
        "colab": {}
      },
      "source": [
        "k_means_feature"
      ],
      "execution_count": 0,
      "outputs": []
    },
    {
      "cell_type": "code",
      "metadata": {
        "id": "PaewoBOhqv9U",
        "colab_type": "code",
        "colab": {}
      },
      "source": [
        ""
      ],
      "execution_count": 0,
      "outputs": []
    },
    {
      "cell_type": "code",
      "metadata": {
        "id": "ih00cgwxqx9f",
        "colab_type": "code",
        "colab": {}
      },
      "source": [
        ""
      ],
      "execution_count": 0,
      "outputs": []
    }
  ]
}