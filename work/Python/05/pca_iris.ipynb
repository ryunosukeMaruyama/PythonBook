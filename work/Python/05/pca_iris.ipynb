{
  "nbformat": 4,
  "nbformat_minor": 0,
  "metadata": {
    "colab": {
      "name": "Ch05-iris-pca.ipynb",
      "version": "0.3.2",
      "provenance": [],
      "collapsed_sections": []
    },
    "kernelspec": {
      "name": "python3",
      "display_name": "Python 3"
    }
  },
  "cells": [
    {
      "cell_type": "code",
      "metadata": {
        "id": "1fXQD0FV11Kd",
        "colab_type": "code",
        "colab": {}
      },
      "source": [
        "import numpy as np\n",
        "import pandas as pd\n",
        "import matplotlib.pyplot as plt\n",
        "%matplotlib inline\n",
        "\n",
        "from sklearn.decomposition import PCA\n",
        "from sklearn.preprocessing import StandardScaler\n",
        "\n",
        "from sklearn.datasets import load_iris"
      ],
      "execution_count": 0,
      "outputs": []
    },
    {
      "cell_type": "code",
      "metadata": {
        "id": "0O3Q1upd2VXx",
        "colab_type": "code",
        "colab": {}
      },
      "source": [
        "iris = load_iris()\n",
        "\n",
        "data_iris = pd.DataFrame(iris.data, columns=iris.feature_names)\n",
        "data_iris[\"target\"] = iris.target\n",
        "\n",
        "print(data_iris.head())\n",
        "print(data_iris.shape)"
      ],
      "execution_count": 0,
      "outputs": []
    },
    {
      "cell_type": "code",
      "metadata": {
        "id": "aJ86062Q2XZd",
        "colab_type": "code",
        "colab": {}
      },
      "source": [
        "data_iris.describe()"
      ],
      "execution_count": 0,
      "outputs": []
    },
    {
      "cell_type": "markdown",
      "metadata": {
        "id": "bWeaduLQ2sP5",
        "colab_type": "text"
      },
      "source": [
        "## 主成分分析"
      ]
    },
    {
      "cell_type": "code",
      "metadata": {
        "id": "7jmVukQ-HEzL",
        "colab_type": "code",
        "colab": {}
      },
      "source": [
        "## 標準化\n",
        "scaler = StandardScaler()\n",
        "data_std = scaler.fit_transform(data_iris[iris.feature_names])"
      ],
      "execution_count": 0,
      "outputs": []
    },
    {
      "cell_type": "code",
      "metadata": {
        "id": "hKq2PZecE7Qv",
        "colab_type": "code",
        "colab": {}
      },
      "source": [
        "data_std_df = pd.DataFrame(data_std, columns=data_iris.columns[0:4])\n",
        "\n",
        "# もとのデータ\n",
        "print(data_iris.describe())\n",
        "\n",
        "# 標準化後のデータ\n",
        "print(data_std_df.describe())"
      ],
      "execution_count": 0,
      "outputs": []
    },
    {
      "cell_type": "code",
      "metadata": {
        "id": "oKknBSSI2cbv",
        "colab_type": "code",
        "colab": {}
      },
      "source": [
        "pca = PCA(n_components=2)\n",
        "pca_transformed = pca.fit_transform(data_std)"
      ],
      "execution_count": 0,
      "outputs": []
    },
    {
      "cell_type": "code",
      "metadata": {
        "id": "zr4jna7_HF38",
        "colab_type": "code",
        "colab": {}
      },
      "source": [
        "print(pca_transformed.shape)"
      ],
      "execution_count": 0,
      "outputs": []
    },
    {
      "cell_type": "code",
      "metadata": {
        "id": "EHAuY_xE4fsv",
        "colab_type": "code",
        "colab": {}
      },
      "source": [
        "plt.scatter(pca_transformed[:, 0], pca_transformed[:, 1])"
      ],
      "execution_count": 0,
      "outputs": []
    },
    {
      "cell_type": "code",
      "metadata": {
        "id": "oKP0ctmc4yXv",
        "colab_type": "code",
        "colab": {}
      },
      "source": [
        "plt.scatter(pca_transformed[:, 0], pca_transformed[:, 1], c=data_iris[\"target\"])"
      ],
      "execution_count": 0,
      "outputs": []
    },
    {
      "cell_type": "markdown",
      "metadata": {
        "id": "2D5Tdi0259sT",
        "colab_type": "text"
      },
      "source": [
        "### 寄与度"
      ]
    },
    {
      "cell_type": "code",
      "metadata": {
        "id": "N2TPBL0n5Clm",
        "colab_type": "code",
        "colab": {}
      },
      "source": [
        "print(pca.explained_variance_ratio_)"
      ],
      "execution_count": 0,
      "outputs": []
    },
    {
      "cell_type": "code",
      "metadata": {
        "id": "O1ezKZcq6Goo",
        "colab_type": "code",
        "colab": {}
      },
      "source": [
        "print(sum(pca.explained_variance_ratio_))"
      ],
      "execution_count": 0,
      "outputs": []
    },
    {
      "cell_type": "code",
      "metadata": {
        "id": "EE1frz2M6IcN",
        "colab_type": "code",
        "colab": {}
      },
      "source": [
        ""
      ],
      "execution_count": 0,
      "outputs": []
    }
  ]
}