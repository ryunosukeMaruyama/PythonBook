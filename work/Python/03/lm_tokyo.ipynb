{
  "nbformat": 4,
  "nbformat_minor": 0,
  "metadata": {
    "colab": {
      "name": "Ch03-tokyo-lm.ipynb",
      "version": "0.3.2",
      "provenance": [],
      "collapsed_sections": [],
      "toc_visible": true
    },
    "kernelspec": {
      "name": "python3",
      "display_name": "Python 3"
    }
  },
  "cells": [
    {
      "cell_type": "code",
      "metadata": {
        "id": "hbPe1ouXtDkg",
        "colab_type": "code",
        "colab": {}
      },
      "source": [
        "import numpy as np\n",
        "import matplotlib.pyplot as plt\n",
        "import pandas as pd\n",
        "import random\n",
        "%matplotlib inline\n",
        "import seaborn as sns\n",
        "from sklearn.linear_model import LinearRegression\n",
        "from sklearn.model_selection import train_test_split\n",
        "\n",
        "import requests\n",
        "import json\n",
        "import re"
      ],
      "execution_count": 0,
      "outputs": []
    },
    {
      "cell_type": "markdown",
      "metadata": {
        "id": "RLSAgxJdJ0rr",
        "colab_type": "text"
      },
      "source": [
        "### APIでデータ読み込み"
      ]
    },
    {
      "cell_type": "code",
      "metadata": {
        "id": "kh4ZZr5Itq_u",
        "colab_type": "code",
        "colab": {}
      },
      "source": [
        "url_path = \"https://www.land.mlit.go.jp/webland/api/TradeListSearch?from=20171&to=20185&area=13\"\n",
        "request_result = requests.get(url_path)\n",
        "data_json = request_result.json()[\"data\"]"
      ],
      "execution_count": 0,
      "outputs": []
    },
    {
      "cell_type": "code",
      "metadata": {
        "id": "haC9urQWKrC0",
        "colab_type": "code",
        "colab": {}
      },
      "source": [
        "print(len(data_json))"
      ],
      "execution_count": 0,
      "outputs": []
    },
    {
      "cell_type": "code",
      "metadata": {
        "id": "sj82Ui5MKu19",
        "colab_type": "code",
        "colab": {}
      },
      "source": [
        "print(data_json[0])"
      ],
      "execution_count": 0,
      "outputs": []
    },
    {
      "cell_type": "code",
      "metadata": {
        "id": "7iJVhsm0LS8F",
        "colab_type": "code",
        "colab": {}
      },
      "source": [
        "print(data_json[1000])"
      ],
      "execution_count": 0,
      "outputs": []
    },
    {
      "cell_type": "code",
      "metadata": {
        "id": "BuOMyy7NNdsH",
        "colab_type": "code",
        "colab": {}
      },
      "source": [
        "data_pd = pd.io.json.json_normalize(data_json)\n",
        "print(data_pd.shape)"
      ],
      "execution_count": 0,
      "outputs": []
    },
    {
      "cell_type": "code",
      "metadata": {
        "id": "VHVU53mCr-47",
        "colab_type": "code",
        "colab": {}
      },
      "source": [
        "print(data_pd.head(10))"
      ],
      "execution_count": 0,
      "outputs": []
    },
    {
      "cell_type": "code",
      "metadata": {
        "id": "56KmFBgHssAI",
        "colab_type": "code",
        "colab": {}
      },
      "source": [
        "print(data_pd.isnull().sum())"
      ],
      "execution_count": 0,
      "outputs": []
    },
    {
      "cell_type": "markdown",
      "metadata": {
        "id": "jB1EII0lhGAW",
        "colab_type": "text"
      },
      "source": [
        "### CSVファイルからデータ読み込み"
      ]
    },
    {
      "cell_type": "code",
      "metadata": {
        "id": "bk-9aVfz7CJW",
        "colab_type": "code",
        "colab": {}
      },
      "source": [
        "data_from_csv = pd.read_csv(\"13_Tokyo_20171_20184.csv\", encoding='cp932')"
      ],
      "execution_count": 0,
      "outputs": []
    },
    {
      "cell_type": "code",
      "metadata": {
        "id": "oibI6rxwQTaX",
        "colab_type": "code",
        "colab": {}
      },
      "source": [
        "print(data_from_csv.shape)"
      ],
      "execution_count": 0,
      "outputs": []
    },
    {
      "cell_type": "code",
      "metadata": {
        "id": "BoyjtlvLhZG4",
        "colab_type": "code",
        "colab": {}
      },
      "source": [
        "print(data_from_csv.iloc[0])"
      ],
      "execution_count": 0,
      "outputs": []
    },
    {
      "cell_type": "code",
      "metadata": {
        "id": "zq7u9UhLib5q",
        "colab_type": "code",
        "colab": {}
      },
      "source": [
        "print(data_from_csv.head(10))"
      ],
      "execution_count": 0,
      "outputs": []
    },
    {
      "cell_type": "markdown",
      "metadata": {
        "id": "4ejeo1d0ZWng",
        "colab_type": "text"
      },
      "source": [
        "### データ整形"
      ]
    },
    {
      "cell_type": "code",
      "metadata": {
        "id": "-QNqhoSiivt7",
        "colab_type": "code",
        "colab": {}
      },
      "source": [
        "print(data_from_csv[\"種類\"].unique())"
      ],
      "execution_count": 0,
      "outputs": []
    },
    {
      "cell_type": "code",
      "metadata": {
        "id": "PLG4jg1RCnwA",
        "colab_type": "code",
        "colab": {}
      },
      "source": [
        "data_used_apartment = data_from_csv.query('種類 == \"中古マンション等\"')\n",
        "print(data_used_apartment.shape)\n",
        "print(data_used_apartment.head())\n",
        "print(data_used_apartment.iloc[0])"
      ],
      "execution_count": 0,
      "outputs": []
    },
    {
      "cell_type": "code",
      "metadata": {
        "id": "2tDqZZiEEH6U",
        "colab_type": "code",
        "colab": {}
      },
      "source": [
        "print(data_used_apartment.isnull().sum())"
      ],
      "execution_count": 0,
      "outputs": []
    },
    {
      "cell_type": "code",
      "metadata": {
        "id": "7vWpDjsISdNh",
        "colab_type": "code",
        "colab": {}
      },
      "source": [
        "columns_name_list = [\"最寄駅：距離（分）\", \"間取り\", \"面積（㎡）\",\"建築年\", \"建物の構造\", \"建ぺい率（％）\", \"容積率（％）\", \"市区町村名\", \"取引価格（総額）\"]\n",
        "\n",
        "data_selected = data_used_apartment[columns_name_list]\n",
        "print(data_selected.shape)\n",
        "\n",
        "data_selected_dropna = data_selected.dropna(how='any') # 一つでもNANデータを含む行を削除\n",
        "print(data_selected_dropna.shape)\n",
        "print(data_selected_dropna.iloc[0])"
      ],
      "execution_count": 0,
      "outputs": []
    },
    {
      "cell_type": "code",
      "metadata": {
        "id": "SsRWqNUsSdQx",
        "colab_type": "code",
        "colab": {}
      },
      "source": [
        "data_selected_dropna[\"建築年\"].unique()"
      ],
      "execution_count": 0,
      "outputs": []
    },
    {
      "cell_type": "code",
      "metadata": {
        "id": "8gkx6DdCSdTM",
        "colab_type": "code",
        "colab": {}
      },
      "source": [
        "data_selected_dropna = data_selected_dropna[data_selected_dropna[\"建築年\"].str.match('^平成|昭和')]\n",
        "\n",
        "\n",
        "wareki_to_seireki = {'昭和': 1926-1, '平成': 1989-1}\n",
        "\n",
        "building_year_list = data_selected_dropna[\"建築年\"]\n",
        "\n",
        "building_age_list = []\n",
        "for building_year in building_year_list:\n",
        "    # 昭和○年 → 昭和, ○ に変換、平成○年 → 平成, ○ に変換\n",
        "    building_year_split = re.search(r'(.+?)([0-9]+|元)年', building_year)\n",
        "    # 西暦に変換\n",
        "    seireki = wareki_to_seireki[building_year_split.groups()[0]] + int(building_year_split.groups()[1])\n",
        "   \n",
        "    building_age = 2018 - seireki # 築年数に変換\n",
        "    building_age_list.append(building_age)\n",
        "\n",
        "    \n",
        "data_selected_dropna[\"築年数\"] = building_age_list # 新しく、築年数列を追加\n",
        "\n",
        "# もう使わないので、建築年列は削除\n",
        "data_added_building_age = data_selected_dropna.drop(\"建築年\", axis=1)\n",
        "print(data_added_building_age.head())"
      ],
      "execution_count": 0,
      "outputs": []
    },
    {
      "cell_type": "code",
      "metadata": {
        "id": "0twcuPJlfYm2",
        "colab_type": "code",
        "colab": {}
      },
      "source": [
        "# ダミー変数化しないもののリスト\n",
        "columns_name_list = [\"最寄駅：距離（分）\", \"面積（㎡）\",\"築年数\", \"建ぺい率（％）\", \"容積率（％）\", \"取引価格（総額）\"]\n",
        "\n",
        "# ダミー変数化するリスト\n",
        "dummy_list = [\"間取り\", \"建物の構造\", \"市区町村名\"]\n",
        "\n",
        "# ダミー変数を追加\n",
        "data_added_dummies = pd.concat([data_added_building_age[columns_name_list],\n",
        "                   pd.get_dummies(data_added_building_age[dummy_list], drop_first=True)], axis=1)\n",
        "\n",
        "print(data_added_dummies.shape)\n",
        "print(data_added_dummies.iloc[0])"
      ],
      "execution_count": 0,
      "outputs": []
    },
    {
      "cell_type": "code",
      "metadata": {
        "id": "SHRUOuaxSdV-",
        "colab_type": "code",
        "colab": {}
      },
      "source": [
        "print(data_added_dummies.dtypes)"
      ],
      "execution_count": 0,
      "outputs": []
    },
    {
      "cell_type": "code",
      "metadata": {
        "id": "Fn6U6LvDlDAW",
        "colab_type": "code",
        "colab": {}
      },
      "source": [
        "data_added_dummies[\"面積（㎡）\"] = data_added_dummies[\"面積（㎡）\"].astype(float)\n",
        "data_added_dummies = data_added_dummies[~data_added_dummies['最寄駅：距離（分）'].str.contains('\\?')]\n",
        "data_added_dummies[\"最寄駅：距離（分）\"] = data_added_dummies[\"最寄駅：距離（分）\"].astype(float)"
      ],
      "execution_count": 0,
      "outputs": []
    },
    {
      "cell_type": "code",
      "metadata": {
        "id": "QyJzbmqgSdY3",
        "colab_type": "code",
        "colab": {}
      },
      "source": [
        "print(data_added_dummies.dtypes)"
      ],
      "execution_count": 0,
      "outputs": []
    },
    {
      "cell_type": "markdown",
      "metadata": {
        "id": "w7p-xIA1Ap8I",
        "colab_type": "text"
      },
      "source": [
        "## 可視化"
      ]
    },
    {
      "cell_type": "code",
      "metadata": {
        "id": "VQWx7PTAApQX",
        "colab_type": "code",
        "colab": {}
      },
      "source": [
        "plt.hist(data_added_dummies[\"取引価格（総額）\"])\n",
        "plt.show()\n",
        "\n",
        "tmp_data = data_added_dummies[data_added_dummies[\"取引価格（総額）\"] < 60000000]\n",
        "print(tmp_data.shape)\n",
        "plt.hist(tmp_data[\"取引価格（総額）\"])\n",
        "plt.show()"
      ],
      "execution_count": 0,
      "outputs": []
    },
    {
      "cell_type": "code",
      "metadata": {
        "id": "wgFEq8xwDOFw",
        "colab_type": "code",
        "colab": {}
      },
      "source": [
        "data_added_dummies = data_added_dummies[data_added_dummies[\"取引価格（総額）\"] < 60000000]"
      ],
      "execution_count": 0,
      "outputs": []
    },
    {
      "cell_type": "markdown",
      "metadata": {
        "id": "-TkxAlYlt4Zg",
        "colab_type": "text"
      },
      "source": [
        "## 線形回帰を実践"
      ]
    },
    {
      "cell_type": "code",
      "metadata": {
        "id": "s-AZ2qRlvCeU",
        "colab_type": "code",
        "colab": {}
      },
      "source": [
        "lr = LinearRegression()\n",
        "\n",
        "x_column_list = ['面積（㎡）']\n",
        "y_column_list = ['取引価格（総額）']\n",
        "\n",
        "x = data_added_dummies[x_column_list]\n",
        "y = data_added_dummies[y_column_list]\n",
        "\n",
        "lr.fit(x, y)"
      ],
      "execution_count": 0,
      "outputs": []
    },
    {
      "cell_type": "code",
      "metadata": {
        "id": "7rYy2IflwCOF",
        "colab_type": "code",
        "colab": {}
      },
      "source": [
        "print(lr.coef_)\n",
        "print(lr.intercept_)"
      ],
      "execution_count": 0,
      "outputs": []
    },
    {
      "cell_type": "markdown",
      "metadata": {
        "id": "hLDyZjIEt_lm",
        "colab_type": "text"
      },
      "source": [
        "### 重回帰分析"
      ]
    },
    {
      "cell_type": "code",
      "metadata": {
        "id": "TeyqwMDWwn7P",
        "colab_type": "code",
        "colab": {}
      },
      "source": [
        "x = data_added_dummies.drop(\"取引価格（総額）\", axis=1)\n",
        "y = data_added_dummies[\"取引価格（総額）\"]\n",
        "\n",
        "print(x.head())\n",
        "print(y.head())"
      ],
      "execution_count": 0,
      "outputs": []
    },
    {
      "cell_type": "code",
      "metadata": {
        "id": "f8VEXWtRwqUO",
        "colab_type": "code",
        "colab": {}
      },
      "source": [
        "lr_multi = LinearRegression()\n",
        "lr_multi.fit(x, y)\n",
        "\n",
        "print(lr_multi.coef_)\n",
        "print(lr_multi.intercept_)"
      ],
      "execution_count": 0,
      "outputs": []
    },
    {
      "cell_type": "code",
      "metadata": {
        "id": "nSB4v9_s5P04",
        "colab_type": "code",
        "colab": {}
      },
      "source": [
        "for i in range(len(lr_multi.coef_)):\n",
        "  print(x.columns[i], lr_multi.coef_[i])"
      ],
      "execution_count": 0,
      "outputs": []
    },
    {
      "cell_type": "markdown",
      "metadata": {
        "id": "lVmbQrgXuET8",
        "colab_type": "text"
      },
      "source": [
        "## 予測"
      ]
    },
    {
      "cell_type": "code",
      "metadata": {
        "id": "8Be2-0Cs8fpl",
        "colab_type": "code",
        "colab": {}
      },
      "source": [
        "x = data_added_dummies.drop(\"取引価格（総額）\", axis=1)\n",
        "y = data_added_dummies[\"取引価格（総額）\"]\n",
        "\n",
        "X_train, X_test, y_train, y_test = train_test_split(x, y, test_size=0.3)\n",
        "print(X_train.shape)\n",
        "print(X_test.shape)\n",
        "print(y_train.shape)\n",
        "print(y_test.shape)"
      ],
      "execution_count": 0,
      "outputs": []
    },
    {
      "cell_type": "code",
      "metadata": {
        "id": "4NOWZ3gF8iO6",
        "colab_type": "code",
        "colab": {}
      },
      "source": [
        "lr_multi2 = LinearRegression()\n",
        "\n",
        "lr_multi2.fit(X_train, y_train) \n",
        "print(lr_multi2.coef_)\n",
        "print(lr_multi2.intercept_)"
      ],
      "execution_count": 0,
      "outputs": []
    },
    {
      "cell_type": "code",
      "metadata": {
        "id": "AiJXsD0O8lce",
        "colab_type": "code",
        "colab": {}
      },
      "source": [
        "y_pred = lr_multi2.predict(X_test)\n",
        "print(y_pred)"
      ],
      "execution_count": 0,
      "outputs": []
    },
    {
      "cell_type": "code",
      "metadata": {
        "id": "1TXiAr4w9AJ0",
        "colab_type": "code",
        "colab": {}
      },
      "source": [
        "print(y_pred - y_test)"
      ],
      "execution_count": 0,
      "outputs": []
    },
    {
      "cell_type": "code",
      "metadata": {
        "id": "GMF1DnRuJ_pP",
        "colab_type": "code",
        "colab": {}
      },
      "source": [
        "from sklearn.metrics import r2_score\n",
        "r2_score(y_test, y_pred)"
      ],
      "execution_count": 0,
      "outputs": []
    },
    {
      "cell_type": "markdown",
      "metadata": {
        "id": "s8Q2afPluIJH",
        "colab_type": "text"
      },
      "source": [
        "## MAE"
      ]
    },
    {
      "cell_type": "code",
      "metadata": {
        "id": "Ao8cg_wZO-XX",
        "colab_type": "code",
        "colab": {}
      },
      "source": [
        "from sklearn.metrics import mean_absolute_error\n",
        "\n",
        "x_column_list = ['面積（㎡）']\n",
        "y_column_list = ['取引価格（総額）']\n",
        "\n",
        "\n",
        "X_train, X_test, y_train, y_test = train_test_split(data_added_dummies[x_column_list], data_added_dummies[y_column_list], test_size=0.3)\n",
        "\n",
        "lr_single = LinearRegression()\n",
        "\n",
        "lr_single.fit(X_train, y_train) \n",
        "y_pred = lr_single.predict(X_test)\n",
        "\n",
        "print(mean_absolute_error(y_pred, y_test))"
      ],
      "execution_count": 0,
      "outputs": []
    },
    {
      "cell_type": "code",
      "metadata": {
        "id": "WfV7c4oQObxF",
        "colab_type": "code",
        "colab": {}
      },
      "source": [
        "x = data_added_dummies.drop(\"取引価格（総額）\", axis=1)\n",
        "y = data_added_dummies[\"取引価格（総額）\"]\n",
        "\n",
        "X_train, X_test, y_train, y_test = train_test_split(x, y, test_size=0.7)\n",
        "\n",
        "lr_multi2 = LinearRegression()\n",
        "\n",
        "lr_multi2.fit(X_train, y_train) \n",
        "y_pred = lr_multi2.predict(X_test)\n",
        "\n",
        "print(mean_absolute_error(y_pred, y_test))"
      ],
      "execution_count": 0,
      "outputs": []
    },
    {
      "cell_type": "markdown",
      "metadata": {
        "id": "vR70qGkg-LiC",
        "colab_type": "text"
      },
      "source": [
        ""
      ]
    }
  ]
}
