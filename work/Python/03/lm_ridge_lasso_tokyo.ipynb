{
  "nbformat": 4,
  "nbformat_minor": 0,
  "metadata": {
    "colab": {
      "name": "Ch03-tokyo-ridge-lasso-lm.ipynb",
      "version": "0.3.2",
      "provenance": [],
      "collapsed_sections": []
    },
    "kernelspec": {
      "name": "python3",
      "display_name": "Python 3"
    }
  },
  "cells": [
    {
      "cell_type": "code",
      "metadata": {
        "id": "hbPe1ouXtDkg",
        "colab_type": "code",
        "colab": {}
      },
      "source": [
        "import numpy as np\n",
        "import matplotlib.pyplot as plt\n",
        "import pandas as pd\n",
        "import random\n",
        "%matplotlib inline\n",
        "import seaborn as sns\n",
        "from sklearn.linear_model import LinearRegression, Ridge, Lasso\n",
        "\n",
        "from sklearn.model_selection import train_test_split\n",
        "from sklearn.metrics import mean_absolute_error\n",
        "\n",
        "import requests\n",
        "import json\n",
        "import re"
      ],
      "execution_count": 0,
      "outputs": []
    },
    {
      "cell_type": "markdown",
      "metadata": {
        "id": "jB1EII0lhGAW",
        "colab_type": "text"
      },
      "source": [
        "### CSVファイルからデータ読み込みとデータ整形\n"
      ]
    },
    {
      "cell_type": "code",
      "metadata": {
        "id": "bk-9aVfz7CJW",
        "colab_type": "code",
        "colab": {}
      },
      "source": [
        "data_from_csv = pd.read_csv(\"13_Tokyo_20171_20184.csv\", encoding='cp932')\n",
        "data_used_apartment = data_from_csv.query('種類 == \"中古マンション等\"')\n",
        "\n",
        "columns_name_list = [\"最寄駅：距離（分）\", \"間取り\", \"面積（㎡）\",\"建築年\", \"建物の構造\", \"建ぺい率（％）\", \"容積率（％）\", \"市区町村名\", \"取引価格（総額）\"]\n",
        "\n",
        "data_selected = data_used_apartment[columns_name_list]\n",
        "data_selected_dropna = data_selected.dropna(how='any') # 一つでもNANデータを含む行を削除"
      ],
      "execution_count": 0,
      "outputs": []
    },
    {
      "cell_type": "code",
      "metadata": {
        "id": "oibI6rxwQTaX",
        "colab_type": "code",
        "colab": {}
      },
      "source": [
        "# 建築年を築年数に変更\n",
        "data_selected_dropna = data_selected_dropna[data_selected_dropna[\"建築年\"].str.match('^平成|昭和')]\n",
        "\n",
        "wareki_to_seireki = {'昭和': 1926-1, '平成': 1989-1}\n",
        "\n",
        "building_year_list = data_selected_dropna[\"建築年\"]\n",
        "\n",
        "building_age_list = []\n",
        "for building_year in building_year_list:\n",
        "    # 昭和○年 → 昭和, ○ に変換、平成○年 → 平成, ○ に変換\n",
        "    building_year_split = re.search(r'(.+?)([0-9]+|元)年', building_year)\n",
        "    # 西暦に変換\n",
        "    seireki = wareki_to_seireki[building_year_split.groups()[0]] + int(building_year_split.groups()[1])\n",
        "   \n",
        "    building_age = 2018 - seireki # 築年数に変換\n",
        "    building_age_list.append(building_age)\n",
        "\n",
        "    \n",
        "data_selected_dropna[\"築年数\"] = building_age_list # 新しく、築年数列を追加\n",
        "# もう使わないので、建築年列は削除\n",
        "data_added_building_age = data_selected_dropna.drop(\"建築年\", axis=1)"
      ],
      "execution_count": 0,
      "outputs": []
    },
    {
      "cell_type": "code",
      "metadata": {
        "id": "BoyjtlvLhZG4",
        "colab_type": "code",
        "colab": {}
      },
      "source": [
        "# ダミー変数化しないもの\n",
        "columns_name_list = [\"最寄駅：距離（分）\", \"面積（㎡）\",\"築年数\", \"建ぺい率（％）\", \"容積率（％）\", \"取引価格（総額）\"]\n",
        "# ダミー変数リスト\n",
        "dummy_list = [\"間取り\", \"建物の構造\", \"市区町村名\"]\n",
        "\n",
        "# ダミー変数を追加\n",
        "data_added_dummies = pd.concat([data_added_building_age[columns_name_list],\n",
        "                   pd.get_dummies(data_added_building_age[dummy_list], drop_first=True)], axis=1)\n",
        "\n",
        "\n",
        "# 文字列を数値化\n",
        "data_added_dummies[\"面積（㎡）\"] = data_added_dummies[\"面積（㎡）\"].astype(float)\n",
        "data_added_dummies = data_added_dummies[~data_added_dummies['最寄駅：距離（分）'].str.contains('\\?')]\n",
        "data_added_dummies[\"最寄駅：距離（分）\"] = data_added_dummies[\"最寄駅：距離（分）\"].astype(float)\n",
        "\n",
        "# 6000万円以下のデータのみ抽出\n",
        "data_added_dummies = data_added_dummies[data_added_dummies[\"取引価格（総額）\"] < 60000000]"
      ],
      "execution_count": 0,
      "outputs": []
    },
    {
      "cell_type": "code",
      "metadata": {
        "id": "zq7u9UhLib5q",
        "colab_type": "code",
        "colab": {}
      },
      "source": [
        "print(data_added_dummies.shape)"
      ],
      "execution_count": 0,
      "outputs": []
    },
    {
      "cell_type": "markdown",
      "metadata": {
        "id": "-TkxAlYlt4Zg",
        "colab_type": "text"
      },
      "source": [
        "## L1正則化なし"
      ]
    },
    {
      "cell_type": "code",
      "metadata": {
        "id": "s-AZ2qRlvCeU",
        "colab_type": "code",
        "colab": {}
      },
      "source": [
        "x = data_added_dummies.drop(\"取引価格（総額）\", axis=1)\n",
        "y = data_added_dummies[\"取引価格（総額）\"]\n",
        "\n",
        "X_train, X_test, y_train, y_test = train_test_split(x, y, test_size=0.3)"
      ],
      "execution_count": 0,
      "outputs": []
    },
    {
      "cell_type": "markdown",
      "metadata": {
        "id": "BLquTeiTAHlI",
        "colab_type": "text"
      },
      "source": [
        "### 予測とMAE"
      ]
    },
    {
      "cell_type": "code",
      "metadata": {
        "id": "f8VEXWtRwqUO",
        "colab_type": "code",
        "colab": {}
      },
      "source": [
        "lr_multi = LinearRegression()\n",
        "\n",
        "lr_multi.fit(X_train, y_train) \n",
        "print(lr_multi.coef_)\n",
        "print(lr_multi.intercept_)\n",
        "\n",
        "y_pred_lr = lr_multi.predict(X_test)\n",
        "\n",
        "# 残差\n",
        "# print(y_pred_lr - y_test)\n",
        "\n",
        "# MAE\n",
        "print(mean_absolute_error(y_pred_lr, y_test))"
      ],
      "execution_count": 0,
      "outputs": []
    },
    {
      "cell_type": "markdown",
      "metadata": {
        "id": "b6MSFJDWCWiw",
        "colab_type": "text"
      },
      "source": [
        "## Lasso回帰"
      ]
    },
    {
      "cell_type": "code",
      "metadata": {
        "id": "_jOfClMfA7wG",
        "colab_type": "code",
        "colab": {}
      },
      "source": [
        "lasso = Lasso(alpha=1, normalize=True)\n",
        "lasso.fit(X_train, y_train) \n",
        "print(lasso.coef_)\n",
        "print(lasso.intercept_)"
      ],
      "execution_count": 0,
      "outputs": []
    },
    {
      "cell_type": "markdown",
      "metadata": {
        "id": "Z7IX8p9KCbr3",
        "colab_type": "text"
      },
      "source": [
        "### MAE"
      ]
    },
    {
      "cell_type": "code",
      "metadata": {
        "id": "nSB4v9_s5P04",
        "colab_type": "code",
        "colab": {}
      },
      "source": [
        "y_pred_lasso = lasso.predict(X_test)\n",
        "\n",
        "# 残差\n",
        "# print(y_pred_lasso.reshape(-1,1) - y_test)\n",
        "\n",
        "# MAE\n",
        "print(mean_absolute_error(y_pred_lasso, y_test))"
      ],
      "execution_count": 0,
      "outputs": []
    },
    {
      "cell_type": "markdown",
      "metadata": {
        "id": "yZMnQ46MCX38",
        "colab_type": "text"
      },
      "source": [
        "## Ridge回帰"
      ]
    },
    {
      "cell_type": "code",
      "metadata": {
        "id": "siOmINIpCZcP",
        "colab_type": "code",
        "colab": {}
      },
      "source": [
        "ridge = Ridge(alpha=0.1, normalize=True)\n",
        "ridge.fit(X_train, y_train) \n",
        "print(ridge.coef_)\n",
        "print(ridge.intercept_)"
      ],
      "execution_count": 0,
      "outputs": []
    },
    {
      "cell_type": "markdown",
      "metadata": {
        "id": "fdy0CHSSCdMu",
        "colab_type": "text"
      },
      "source": [
        "### MAE"
      ]
    },
    {
      "cell_type": "code",
      "metadata": {
        "id": "gaH1r7WqCdwZ",
        "colab_type": "code",
        "colab": {}
      },
      "source": [
        "y_pred_ridge = ridge.predict(X_test)\n",
        "\n",
        "# 残差\n",
        "# print(y_pred_ridge.reshape(-1,1) - y_test)\n",
        "\n",
        "# MAE\n",
        "print(mean_absolute_error(y_pred_ridge, y_test))"
      ],
      "execution_count": 0,
      "outputs": []
    },
    {
      "cell_type": "code",
      "metadata": {
        "id": "-eW2Q8MCTyTj",
        "colab_type": "code",
        "colab": {}
      },
      "source": [
        ""
      ],
      "execution_count": 0,
      "outputs": []
    }
  ]
}