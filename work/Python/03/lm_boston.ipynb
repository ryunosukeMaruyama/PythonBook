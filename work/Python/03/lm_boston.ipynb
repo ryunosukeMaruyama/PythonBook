{
  "nbformat": 4,
  "nbformat_minor": 0,
  "metadata": {
    "colab": {
      "name": "Ch03-boston-lm.ipynb",
      "version": "0.3.2",
      "provenance": [],
      "collapsed_sections": []
    },
    "kernelspec": {
      "name": "python3",
      "display_name": "Python 3"
    },
    "accelerator": "GPU"
  },
  "cells": [
    {
      "cell_type": "code",
      "metadata": {
        "id": "o5dgWD9rz4LG",
        "colab_type": "code",
        "colab": {}
      },
      "source": [
        "import numpy as np\n",
        "import pandas as pd\n",
        "import matplotlib.pyplot as plt\n",
        "%matplotlib inline\n",
        "import seaborn as sns\n",
        "from sklearn.linear_model import LinearRegression\n",
        "from sklearn.datasets import load_boston"
      ],
      "execution_count": 0,
      "outputs": []
    },
    {
      "cell_type": "markdown",
      "metadata": {
        "id": "GAqEPf-uYZZ5",
        "colab_type": "text"
      },
      "source": [
        "## データ読み込み"
      ]
    },
    {
      "cell_type": "code",
      "metadata": {
        "id": "Z38CWl_Fz61A",
        "colab_type": "code",
        "colab": {}
      },
      "source": [
        "boston = load_boston()\n",
        "print(boston.DESCR)"
      ],
      "execution_count": 0,
      "outputs": []
    },
    {
      "cell_type": "code",
      "metadata": {
        "id": "2HC7DcOv9Mib",
        "colab_type": "code",
        "colab": {}
      },
      "source": [
        "data_boston = pd.DataFrame(boston.data, columns=boston.feature_names)\n",
        "data_boston['PRICE'] = boston.target"
      ],
      "execution_count": 0,
      "outputs": []
    },
    {
      "cell_type": "code",
      "metadata": {
        "id": "x10DS7QWZRiY",
        "colab_type": "code",
        "colab": {}
      },
      "source": [
        "print(data_boston.head())"
      ],
      "execution_count": 0,
      "outputs": []
    },
    {
      "cell_type": "code",
      "metadata": {
        "id": "bDWlr_nRq8v1",
        "colab_type": "code",
        "colab": {}
      },
      "source": [
        "print(data_boston.tail())"
      ],
      "execution_count": 0,
      "outputs": []
    },
    {
      "cell_type": "markdown",
      "metadata": {
        "id": "Sg70gJxoYgt6",
        "colab_type": "text"
      },
      "source": [
        "## 可視化"
      ]
    },
    {
      "cell_type": "code",
      "metadata": {
        "id": "OyirnZ2a9U8X",
        "colab_type": "code",
        "colab": {}
      },
      "source": [
        "sns.jointplot('RM', 'PRICE', data=data_boston)"
      ],
      "execution_count": 0,
      "outputs": []
    },
    {
      "cell_type": "code",
      "metadata": {
        "id": "TuMKNWCHBS1S",
        "colab_type": "code",
        "colab": {}
      },
      "source": [
        "sns.pairplot(data_boston)"
      ],
      "execution_count": 0,
      "outputs": []
    },
    {
      "cell_type": "code",
      "metadata": {
        "id": "xIdkp9Q_B4-Y",
        "colab_type": "code",
        "colab": {}
      },
      "source": [
        "sns.pairplot(data_boston, vars=[\"PRICE\", \"RM\", \"DIS\"])"
      ],
      "execution_count": 0,
      "outputs": []
    },
    {
      "cell_type": "markdown",
      "metadata": {
        "id": "akWwJ5J8yx3f",
        "colab_type": "text"
      },
      "source": [
        "## 線形回帰を実践"
      ]
    },
    {
      "cell_type": "code",
      "metadata": {
        "id": "37T2q4X11NIm",
        "colab_type": "code",
        "colab": {}
      },
      "source": [
        "lr = LinearRegression()"
      ],
      "execution_count": 0,
      "outputs": []
    },
    {
      "cell_type": "code",
      "metadata": {
        "id": "UaCgv7VMCQaQ",
        "colab_type": "code",
        "colab": {}
      },
      "source": [
        "x_column_list = ['RM']\n",
        "y_column_list = ['PRICE']\n",
        "\n",
        "data_boston_x = data_boston[x_column_list]\n",
        "data_boston_y = data_boston[y_column_list]\n",
        "\n",
        "lr.fit(data_boston_x, data_boston_y)"
      ],
      "execution_count": 0,
      "outputs": []
    },
    {
      "cell_type": "code",
      "metadata": {
        "id": "CmF-CkZkzBRi",
        "colab_type": "code",
        "colab": {}
      },
      "source": [
        "print(lr.coef_)\n",
        "print(lr.intercept_)"
      ],
      "execution_count": 0,
      "outputs": []
    },
    {
      "cell_type": "markdown",
      "metadata": {
        "id": "vb42hci58i5V",
        "colab_type": "text"
      },
      "source": [
        "### 重回帰分析"
      ]
    },
    {
      "cell_type": "code",
      "metadata": {
        "id": "d3wJ2V2CAFEK",
        "colab_type": "code",
        "colab": {}
      },
      "source": [
        "lr_multi = LinearRegression()\n",
        "\n",
        "x_column_list_for_multi = ['CRIM', 'ZN', 'INDUS', 'CHAS', 'NOX', 'RM', 'AGE', 'DIS', 'RAD', 'TAX', 'PTRATIO', 'B', 'LSTAT']\n",
        "y_column_list_for_multi = ['PRICE']\n",
        "\n",
        "data_boston_x = data_boston[x_column_list_for_multi]\n",
        "data_boston_y = data_boston[y_column_list_for_multi]\n",
        "\n",
        "lr_multi.fit(data_boston_x,  data_boston_y)"
      ],
      "execution_count": 0,
      "outputs": []
    },
    {
      "cell_type": "code",
      "metadata": {
        "id": "QDwGOyzVAc_f",
        "colab_type": "code",
        "colab": {}
      },
      "source": [
        "print(lr_multi.coef_)\n",
        "print(lr_multi.intercept_)"
      ],
      "execution_count": 0,
      "outputs": []
    },
    {
      "cell_type": "markdown",
      "metadata": {
        "id": "alpJSV_OY_UP",
        "colab_type": "text"
      },
      "source": [
        "## 予測"
      ]
    },
    {
      "cell_type": "code",
      "metadata": {
        "id": "IYDRbFKCZA2n",
        "colab_type": "code",
        "colab": {}
      },
      "source": [
        "from sklearn.model_selection import train_test_split\n",
        "\n",
        "X_train, X_test, y_train, y_test = train_test_split(data_boston_x, data_boston_y, test_size=0.3)"
      ],
      "execution_count": 0,
      "outputs": []
    },
    {
      "cell_type": "code",
      "metadata": {
        "id": "3tlg7O37brti",
        "colab_type": "code",
        "colab": {}
      },
      "source": [
        "print(X_train.shape)\n",
        "print(X_test.shape)\n",
        "print(y_train.shape)\n",
        "print(y_test.shape)"
      ],
      "execution_count": 0,
      "outputs": []
    },
    {
      "cell_type": "code",
      "metadata": {
        "id": "yDbbRGARejnC",
        "colab_type": "code",
        "colab": {}
      },
      "source": [
        "lr_multi2 = LinearRegression()\n",
        "\n",
        "lr_multi2.fit(X_train, y_train) \n",
        "print(lr_multi2.coef_)\n",
        "print(lr_multi2.intercept_)"
      ],
      "execution_count": 0,
      "outputs": []
    },
    {
      "cell_type": "code",
      "metadata": {
        "id": "8dqcvzMMfrmL",
        "colab_type": "code",
        "colab": {}
      },
      "source": [
        "y_pred = lr_multi2.predict(X_test)"
      ],
      "execution_count": 0,
      "outputs": []
    },
    {
      "cell_type": "code",
      "metadata": {
        "id": "m_K6lCv2g0f9",
        "colab_type": "code",
        "colab": {}
      },
      "source": [
        "print(y_pred - y_test)"
      ],
      "execution_count": 0,
      "outputs": []
    },
    {
      "cell_type": "markdown",
      "metadata": {
        "id": "ZPwNArsCk9JX",
        "colab_type": "text"
      },
      "source": [
        "## MAE"
      ]
    },
    {
      "cell_type": "code",
      "metadata": {
        "id": "-TGrKPMGg10f",
        "colab_type": "code",
        "colab": {}
      },
      "source": [
        "from sklearn.metrics import mean_absolute_error"
      ],
      "execution_count": 0,
      "outputs": []
    },
    {
      "cell_type": "code",
      "metadata": {
        "id": "8YeXhiqWhPtI",
        "colab_type": "code",
        "colab": {}
      },
      "source": [
        "x_column_list = ['RM']\n",
        "y_column_list = ['PRICE']\n",
        "\n",
        "X_train, X_test, y_train, y_test = train_test_split(data_boston[x_column_list], data_boston[y_column_list], test_size=0.3)\n",
        "\n",
        "lr_single = LinearRegression()\n",
        "\n",
        "lr_single.fit(X_train, y_train) \n",
        "y_pred = lr_single.predict(X_test)\n",
        "\n",
        "print(mean_absolute_error(y_pred, y_test))"
      ],
      "execution_count": 0,
      "outputs": []
    },
    {
      "cell_type": "code",
      "metadata": {
        "id": "vXCexSrUlZ6K",
        "colab_type": "code",
        "colab": {}
      },
      "source": [
        "x_column_list_for_multi = ['CRIM', 'ZN', 'INDUS', 'CHAS', 'NOX', 'RM', 'AGE', 'DIS', 'RAD', 'TAX', 'PTRATIO', 'B', 'LSTAT']\n",
        "y_column_list_for_multi = ['PRICE']\n",
        "\n",
        "X_train, X_test, y_train, y_test = train_test_split(data_boston[x_column_list_for_multi], data_boston[y_column_list_for_multi], test_size=0.3)\n",
        "\n",
        "lr_multi2 = LinearRegression()\n",
        "\n",
        "lr_multi2.fit(X_train, y_train) \n",
        "y_pred = lr_multi2.predict(X_test)\n",
        "\n",
        "print(mean_absolute_error(y_pred, y_test))"
      ],
      "execution_count": 0,
      "outputs": []
    },
    {
      "cell_type": "code",
      "metadata": {
        "id": "pbCs-LY9lhs0",
        "colab_type": "code",
        "colab": {}
      },
      "source": [
        ""
      ],
      "execution_count": 0,
      "outputs": []
    },
    {
      "cell_type": "code",
      "metadata": {
        "id": "ZuiyKVZfnetv",
        "colab_type": "code",
        "colab": {}
      },
      "source": [
        ""
      ],
      "execution_count": 0,
      "outputs": []
    }
  ]
}