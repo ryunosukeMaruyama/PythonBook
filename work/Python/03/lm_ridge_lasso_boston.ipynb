{
  "nbformat": 4,
  "nbformat_minor": 0,
  "metadata": {
    "colab": {
      "name": "Ch03-boston-ridge-lasso-lm.ipynb",
      "version": "0.3.2",
      "provenance": [],
      "collapsed_sections": []
    },
    "kernelspec": {
      "name": "python3",
      "display_name": "Python 3"
    },
    "accelerator": "GPU"
  },
  "cells": [
    {
      "cell_type": "code",
      "metadata": {
        "id": "o5dgWD9rz4LG",
        "colab_type": "code",
        "colab": {}
      },
      "source": [
        "import numpy as np\n",
        "import pandas as pd\n",
        "import matplotlib.pyplot as plt\n",
        "%matplotlib inline\n",
        "import seaborn as sns\n",
        "from sklearn.linear_model import LinearRegression, Ridge, Lasso\n",
        "from sklearn.datasets import load_boston\n",
        "from sklearn.metrics import mean_absolute_error\n",
        "from sklearn.model_selection import train_test_split"
      ],
      "execution_count": 0,
      "outputs": []
    },
    {
      "cell_type": "markdown",
      "metadata": {
        "id": "GAqEPf-uYZZ5",
        "colab_type": "text"
      },
      "source": [
        "## データ読み込み"
      ]
    },
    {
      "cell_type": "code",
      "metadata": {
        "id": "Z38CWl_Fz61A",
        "colab_type": "code",
        "colab": {}
      },
      "source": [
        "boston = load_boston()\n",
        "data_boston = pd.DataFrame(boston.data, columns=boston.feature_names)\n",
        "data_boston['PRICE'] = boston.target\n",
        "\n",
        "print(data_boston.head())\n",
        "print(data_boston.tail())"
      ],
      "execution_count": 0,
      "outputs": []
    },
    {
      "cell_type": "markdown",
      "metadata": {
        "id": "Obrkk6djkrQV",
        "colab_type": "text"
      },
      "source": [
        "## L1正則化なし"
      ]
    },
    {
      "cell_type": "code",
      "metadata": {
        "id": "Dxo6oyArkuZX",
        "colab_type": "code",
        "colab": {}
      },
      "source": [
        "lr_multi = LinearRegression()\n",
        "\n",
        "x_column_list_for_multi = ['CRIM', 'ZN', 'INDUS', 'CHAS', 'NOX', 'RM', 'AGE', 'DIS', 'RAD', 'TAX', 'PTRATIO', 'B', 'LSTAT']\n",
        "y_column_list_for_multi = ['PRICE']\n",
        "\n",
        "lr_multi.fit(data_boston[x_column_list_for_multi],  data_boston[y_column_list_for_multi])\n",
        "\n",
        "print(lr_multi.coef_)\n",
        "print(lr_multi.intercept_)"
      ],
      "execution_count": 0,
      "outputs": []
    },
    {
      "cell_type": "code",
      "metadata": {
        "id": "720BakmC4Khb",
        "colab_type": "code",
        "colab": {}
      },
      "source": [
        "X_train, X_test, y_train, y_test = train_test_split(data_boston[x_column_list_for_multi], data_boston[y_column_list_for_multi], test_size=0.3)"
      ],
      "execution_count": 0,
      "outputs": []
    },
    {
      "cell_type": "markdown",
      "metadata": {
        "id": "W0BRywgqkLKv",
        "colab_type": "text"
      },
      "source": [
        "### 予測と**MAE**"
      ]
    },
    {
      "cell_type": "code",
      "metadata": {
        "id": "q-pBlusmkMt6",
        "colab_type": "code",
        "colab": {}
      },
      "source": [
        "lr_multi2 = LinearRegression()\n",
        "\n",
        "lr_multi2.fit(X_train, y_train) \n",
        "print(lr_multi2.coef_)\n",
        "print(lr_multi2.intercept_)\n",
        "\n",
        "y_pred_lr = lr_multi2.predict(X_test)\n",
        "\n",
        "# 残差\n",
        "# print(y_pred_lr-y_test)\n",
        "\n",
        "# MAE\n",
        "print(mean_absolute_error(y_pred_lr, y_test))"
      ],
      "execution_count": 0,
      "outputs": []
    },
    {
      "cell_type": "markdown",
      "metadata": {
        "id": "aA5RrYWvk-Pj",
        "colab_type": "text"
      },
      "source": [
        "## Lasso回帰"
      ]
    },
    {
      "cell_type": "code",
      "metadata": {
        "id": "zu_8ABezlTgd",
        "colab_type": "code",
        "colab": {}
      },
      "source": [
        "lasso = Lasso(alpha=0.001, normalize=True)\n",
        "lasso.fit(X_train, y_train) \n",
        "print(lasso.coef_)\n",
        "print(lasso.intercept_)"
      ],
      "execution_count": 0,
      "outputs": []
    },
    {
      "cell_type": "markdown",
      "metadata": {
        "id": "T1FWbFm8lPDq",
        "colab_type": "text"
      },
      "source": [
        "### MAE"
      ]
    },
    {
      "cell_type": "code",
      "metadata": {
        "id": "NMzuTOhXlBtQ",
        "colab_type": "code",
        "colab": {}
      },
      "source": [
        "y_pred_lasso = lasso.predict(X_test)\n",
        "\n",
        "# 残差\n",
        "# print(y_pred_lasso.reshape(-1,1) - y_test)\n",
        "\n",
        "# MAE\n",
        "print(mean_absolute_error(y_pred_lasso, y_test))"
      ],
      "execution_count": 0,
      "outputs": []
    },
    {
      "cell_type": "markdown",
      "metadata": {
        "id": "0zLEcnZFjkrk",
        "colab_type": "text"
      },
      "source": [
        "## Ridge回帰"
      ]
    },
    {
      "cell_type": "code",
      "metadata": {
        "id": "A1XZ4pV3lVxd",
        "colab_type": "code",
        "colab": {}
      },
      "source": [
        "ridge = Ridge(alpha=0.01, normalize=True)\n",
        "ridge.fit(X_train, y_train) \n",
        "print(ridge.coef_)\n",
        "print(ridge.intercept_)"
      ],
      "execution_count": 0,
      "outputs": []
    },
    {
      "cell_type": "markdown",
      "metadata": {
        "id": "Pm6sVXnXlUb-",
        "colab_type": "text"
      },
      "source": [
        "### MAE"
      ]
    },
    {
      "cell_type": "code",
      "metadata": {
        "id": "ZuiyKVZfnetv",
        "colab_type": "code",
        "colab": {}
      },
      "source": [
        "y_pred_ridge = ridge.predict(X_test)\n",
        "\n",
        "# 残差\n",
        "# print(y_pred_ridge.reshape(-1,1) - y_test)\n",
        "\n",
        "# MAE\n",
        "print(mean_absolute_error(y_pred_ridge, y_test))"
      ],
      "execution_count": 0,
      "outputs": []
    },
    {
      "cell_type": "code",
      "metadata": {
        "id": "CXzbRDoXx24o",
        "colab_type": "code",
        "colab": {}
      },
      "source": [
        ""
      ],
      "execution_count": 0,
      "outputs": []
    }
  ]
}