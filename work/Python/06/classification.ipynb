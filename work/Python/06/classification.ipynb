{
  "nbformat": 4,
  "nbformat_minor": 0,
  "metadata": {
    "colab": {
      "name": "classification.ipynb",
      "version": "0.3.2",
      "provenance": [],
      "collapsed_sections": []
    },
    "kernelspec": {
      "name": "python3",
      "display_name": "Python 3"
    }
  },
  "cells": [
    {
      "cell_type": "code",
      "metadata": {
        "id": "dj5RSy08UIcH",
        "colab_type": "code",
        "colab": {}
      },
      "source": [
        "import numpy as np\n",
        "import pandas as pd\n",
        "\n",
        "from sklearn.datasets import load_iris\n",
        "from sklearn.linear_model import LogisticRegression\n",
        "\n",
        "from sklearn.model_selection import train_test_split\n",
        "from sklearn.metrics import accuracy_score\n",
        "from sklearn.metrics import roc_auc_score"
      ],
      "execution_count": 0,
      "outputs": []
    },
    {
      "cell_type": "markdown",
      "metadata": {
        "id": "6i4REqNKVDTv",
        "colab_type": "text"
      },
      "source": [
        "## データ読み込み\n"
      ]
    },
    {
      "cell_type": "code",
      "metadata": {
        "id": "7gQ4SukTUBM7",
        "colab_type": "code",
        "colab": {}
      },
      "source": [
        "iris = load_iris()\n",
        "\n",
        "tmp_data = pd.DataFrame(iris.data, columns=iris.feature_names)\n",
        "tmp_data[\"target\"] = iris.target\n",
        "\n",
        "data_iris = tmp_data[tmp_data['target'] <= 1]\n",
        "\n",
        "x_column_list = ['sepal length (cm)']\n",
        "y_column_list = ['target']\n",
        "\n",
        "X_train, X_test, y_train, y_test = train_test_split(data_iris[x_column_list], \n",
        "                                                    data_iris[y_column_list], test_size=0.3)"
      ],
      "execution_count": 0,
      "outputs": []
    },
    {
      "cell_type": "markdown",
      "metadata": {
        "id": "oxavKwzVVPTp",
        "colab_type": "text"
      },
      "source": [
        "## 学習と予測"
      ]
    },
    {
      "cell_type": "code",
      "metadata": {
        "id": "0Ogf7jEFVK7K",
        "colab_type": "code",
        "colab": {}
      },
      "source": [
        "logit = LogisticRegression()\n",
        "\n",
        "logit = LogisticRegression()\n",
        "logit.fit(X_train, y_train)\n",
        "\n",
        "y_pred = logit.predict(X_test)"
      ],
      "execution_count": 0,
      "outputs": []
    },
    {
      "cell_type": "markdown",
      "metadata": {
        "id": "Gc1F9yRXVz5G",
        "colab_type": "text"
      },
      "source": [
        "## 正解率"
      ]
    },
    {
      "cell_type": "code",
      "metadata": {
        "id": "LDFpNB5DVunc",
        "colab_type": "code",
        "colab": {}
      },
      "source": [
        "accuracy_score(y_test, y_pred)"
      ],
      "execution_count": 0,
      "outputs": []
    },
    {
      "cell_type": "markdown",
      "metadata": {
        "id": "a0xBXjdDWAIK",
        "colab_type": "text"
      },
      "source": [
        "## AUC"
      ]
    },
    {
      "cell_type": "code",
      "metadata": {
        "id": "jKJMH5oMV99s",
        "colab_type": "code",
        "colab": {}
      },
      "source": [
        "roc_auc_score(y_test, y_pred)"
      ],
      "execution_count": 0,
      "outputs": []
    },
    {
      "cell_type": "code",
      "metadata": {
        "id": "cL_YCijTUhAr",
        "colab_type": "code",
        "colab": {}
      },
      "source": [
        ""
      ],
      "execution_count": 0,
      "outputs": []
    }
  ]
}