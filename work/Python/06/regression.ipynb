{
  "nbformat": 4,
  "nbformat_minor": 0,
  "metadata": {
    "colab": {
      "name": "regression.ipynb",
      "version": "0.3.2",
      "provenance": [],
      "collapsed_sections": []
    },
    "kernelspec": {
      "name": "python3",
      "display_name": "Python 3"
    }
  },
  "cells": [
    {
      "cell_type": "code",
      "metadata": {
        "id": "Tplx-pF0QMTW",
        "colab_type": "code",
        "colab": {}
      },
      "source": [
        "import numpy as np\n",
        "import pandas as pd\n",
        "\n",
        "from sklearn.linear_model import LinearRegression\n",
        "from sklearn.datasets import load_boston\n",
        "\n",
        "from sklearn.model_selection import train_test_split\n",
        "from sklearn.metrics import mean_absolute_error\n",
        "from sklearn.metrics import mean_squared_error\n",
        "from sklearn.metrics import mean_squared_log_error"
      ],
      "execution_count": 0,
      "outputs": []
    },
    {
      "cell_type": "markdown",
      "metadata": {
        "id": "5RuL6EUjSP6L",
        "colab_type": "text"
      },
      "source": [
        "## データ読み込み"
      ]
    },
    {
      "cell_type": "code",
      "metadata": {
        "id": "Ed4iMNSlSMJE",
        "colab_type": "code",
        "colab": {}
      },
      "source": [
        "boston = load_boston()\n",
        "data_boston = pd.DataFrame(boston.data, columns=boston.feature_names)\n",
        "data_boston['PRICE'] = boston.target\n",
        "\n",
        "lr_multi = LinearRegression()\n",
        "\n",
        "x_column_list_for_multi = ['CRIM', 'ZN', 'INDUS', 'CHAS', 'NOX', 'RM', \n",
        "                           'AGE', 'DIS', 'RAD', 'TAX', 'PTRATIO', 'B', 'LSTAT']\n",
        "y_column_list_for_multi = ['PRICE']\n",
        "\n",
        "X_train, X_test, y_train, y_test = train_test_split(data_boston[x_column_list_for_multi], \n",
        "                                                    data_boston[y_column_list_for_multi], test_size=0.3)"
      ],
      "execution_count": 0,
      "outputs": []
    },
    {
      "cell_type": "markdown",
      "metadata": {
        "id": "6lAp0JMISvtD",
        "colab_type": "text"
      },
      "source": [
        "## 学習と予測"
      ]
    },
    {
      "cell_type": "code",
      "metadata": {
        "id": "Weqsnyi0SvSZ",
        "colab_type": "code",
        "colab": {}
      },
      "source": [
        "lr_multi.fit(X_train, y_train) \n",
        "y_pred = lr_multi.predict(X_test)"
      ],
      "execution_count": 0,
      "outputs": []
    },
    {
      "cell_type": "markdown",
      "metadata": {
        "id": "Ld1yFxecTJdF",
        "colab_type": "text"
      },
      "source": [
        "## RMSE"
      ]
    },
    {
      "cell_type": "code",
      "metadata": {
        "id": "NA0uL9a5ZAql",
        "colab_type": "code",
        "colab": {}
      },
      "source": [
        "mean_squared_error(y_test, y_pred)"
      ],
      "execution_count": 0,
      "outputs": []
    },
    {
      "cell_type": "code",
      "metadata": {
        "id": "Zg-a3SD_TLPM",
        "colab_type": "code",
        "colab": {}
      },
      "source": [
        "np.sqrt(mean_squared_error(y_test, y_pred))"
      ],
      "execution_count": 0,
      "outputs": []
    },
    {
      "cell_type": "markdown",
      "metadata": {
        "id": "fljMKBwdTBxJ",
        "colab_type": "text"
      },
      "source": [
        "## MAE"
      ]
    },
    {
      "cell_type": "code",
      "metadata": {
        "id": "qJqX5ZeGSoQ7",
        "colab_type": "code",
        "colab": {}
      },
      "source": [
        "mean_absolute_error(y_test, y_pred)"
      ],
      "execution_count": 0,
      "outputs": []
    },
    {
      "cell_type": "markdown",
      "metadata": {
        "id": "BgJdnzIoTIV5",
        "colab_type": "text"
      },
      "source": [
        "## RMSLE"
      ]
    },
    {
      "cell_type": "code",
      "metadata": {
        "id": "RHvxOfkKZruN",
        "colab_type": "code",
        "colab": {}
      },
      "source": [
        "mean_squared_log_error (y_test, y_pred)"
      ],
      "execution_count": 0,
      "outputs": []
    },
    {
      "cell_type": "code",
      "metadata": {
        "id": "LoKr-oCWTHcp",
        "colab_type": "code",
        "colab": {}
      },
      "source": [
        "np.sqrt(mean_squared_log_error (y_test, y_pred))"
      ],
      "execution_count": 0,
      "outputs": []
    },
    {
      "cell_type": "code",
      "metadata": {
        "id": "m0Lqa0CGTxUF",
        "colab_type": "code",
        "colab": {}
      },
      "source": [
        ""
      ],
      "execution_count": 0,
      "outputs": []
    }
  ]
}