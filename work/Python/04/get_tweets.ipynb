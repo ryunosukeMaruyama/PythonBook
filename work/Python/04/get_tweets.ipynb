{
  "nbformat": 4,
  "nbformat_minor": 0,
  "metadata": {
    "colab": {
      "name": "Ch04-Get-Tweet.ipynb",
      "version": "0.3.2",
      "provenance": [],
      "collapsed_sections": []
    },
    "kernelspec": {
      "name": "python3",
      "display_name": "Python 3"
    }
  },
  "cells": [
    {
      "cell_type": "code",
      "metadata": {
        "id": "QZ4D9fwktm5J",
        "colab_type": "code",
        "colab": {}
      },
      "source": [
        "#coding:utf-8\n",
        "import numpy as np\n",
        "import json\n",
        "import requests\n",
        "from requests_oauthlib import OAuth1Session, OAuth1\n",
        "import datetime\n",
        "import re\n",
        "import time\n",
        "\n",
        "from google.colab import files"
      ],
      "execution_count": 0,
      "outputs": []
    },
    {
      "cell_type": "markdown",
      "metadata": {
        "id": "inx3ZQ1ytwgU",
        "colab_type": "text"
      },
      "source": [
        "## 認証"
      ]
    },
    {
      "cell_type": "code",
      "metadata": {
        "id": "Oz54bCWxtv1u",
        "colab_type": "code",
        "colab": {}
      },
      "source": [
        "access_token = 'XXXXXXXXXX\n",
        "access_token_secret = 'XXXXXXXXXX'\n",
        "consumer_key = 'XXXXXXXXXX'\n",
        "consumer_key_secret = 'XXXXXXXXXX'\n",
        "\n",
        "# タイムライン取得用のURL\n",
        "url = \"https://api.twitter.com/1.1/statuses/user_timeline.json\"\n",
        "\n",
        "#APIの認証\n",
        "twitter = OAuth1Session(consumer_key, consumer_key_secret, access_token, access_token_secret)"
      ],
      "execution_count": 0,
      "outputs": []
    },
    {
      "cell_type": "markdown",
      "metadata": {
        "id": "3U8l4Mg-tyZu",
        "colab_type": "text"
      },
      "source": [
        "## Np_Ur_ のツイート取得"
      ]
    },
    {
      "cell_type": "code",
      "metadata": {
        "id": "XF279Mzw02Yh",
        "colab_type": "code",
        "colab": {}
      },
      "source": [
        "def normalize_text(text):\n",
        "    text = re.sub(r'https?://[\\w/:%#\\$&\\?\\(\\)~\\.=\\+\\-…]+', \"\", text)\n",
        "    text = re.sub('RT', \"\", text)\n",
        "    text = re.sub('お気に入り', \"\", text)\n",
        "    text = re.sub('まとめ', \"\", text)\n",
        "    text = re.sub(r'[!-~]', \"\", text)\n",
        "    text = re.sub(r'[︰-＠]', \"\", text)\n",
        "    text = re.sub('\\u3000',\"\", text)\n",
        "    text = re.sub('\\t', \"\", text)\n",
        "    text = re.sub('\\n', \"\", text)\n",
        "    text = text.strip()\n",
        "    return text"
      ],
      "execution_count": 0,
      "outputs": []
    },
    {
      "cell_type": "code",
      "metadata": {
        "id": "v4TAWF4qttB5",
        "colab_type": "code",
        "colab": {}
      },
      "source": [
        "# パラメータの定義\n",
        "params = {'screen_name': 'Np_Ur_',\n",
        "          'exclude_replies':True,\n",
        "          'include_rts':False,\n",
        "          'count':200\n",
        "         }\n",
        "\n",
        "f_out = open('np_ur_.tsv','w')\n",
        "\n",
        "for _ in range(20):\n",
        "    res = twitter.get(url, params = params)\n",
        "\n",
        "    if res.status_code == 200:\n",
        "\n",
        "        timeline = json.loads(res.text)\n",
        "        if len(timeline) == 0:\n",
        "            break\n",
        " \n",
        "        # 各ツイートの本文を表示\n",
        "        for i in range(len(timeline)):\n",
        "            #print(len(timeline[i]['text']))\n",
        "            f_out.write(normalize_text(timeline[i]['text']) +  '\\t' + \"0\" + '\\n')\n",
        "        \n",
        "        #  一番最後のツイートIDをパラメータmax_idに追加 \n",
        "        params['max_id'] = timeline[len(timeline) - 1]['id'] - 1\n",
        "\n",
        "f_out.close()"
      ],
      "execution_count": 0,
      "outputs": []
    },
    {
      "cell_type": "code",
      "metadata": {
        "id": "NIUtJQ2Bt1Wq",
        "colab_type": "code",
        "colab": {}
      },
      "source": [
        "files.download('np_ur_.tsv')"
      ],
      "execution_count": 0,
      "outputs": []
    },
    {
      "cell_type": "markdown",
      "metadata": {
        "id": "AcEcCSiKt-1_",
        "colab_type": "text"
      },
      "source": [
        "## lucky_CandR のツイート取得"
      ]
    },
    {
      "cell_type": "code",
      "metadata": {
        "id": "hCI91j-it6IM",
        "colab_type": "code",
        "colab": {}
      },
      "source": [
        "# パラメータの定義\n",
        "params = {'screen_name':'lucky_CandR',\n",
        "          'exclude_replies':True,\n",
        "          'include_rts':False,\n",
        "          'count':200\n",
        "         }\n",
        "\n",
        "f_out = open('lucky_CandR.tsv','w')\n",
        "\n",
        "for _ in range(20):\n",
        "    res = twitter.get(url, params = params)\n",
        "\n",
        "    if res.status_code == 200:\n",
        "\n",
        "        timeline = json.loads(res.text)\n",
        "        if len(timeline) == 0:\n",
        "            break\n",
        " \n",
        "        # 各ツイートの本文を表示\n",
        "        for i in range(len(timeline)):\n",
        "            f_out.write(normalize_text(timeline[i]['text']) +  '\\t' + \"1\" + '\\n')\n",
        "        \n",
        "        #  一番最後のツイートIDをパラメータmax_idに追加 \n",
        "        params['max_id'] = timeline[len(timeline) - 1]['id'] - 1\n",
        "\n",
        "f_out.close()"
      ],
      "execution_count": 0,
      "outputs": []
    },
    {
      "cell_type": "code",
      "metadata": {
        "id": "xO1jONm_uLAm",
        "colab_type": "code",
        "colab": {}
      },
      "source": [
        "files.download('lucky_CandR.tsv')"
      ],
      "execution_count": 0,
      "outputs": []
    },
    {
      "cell_type": "code",
      "metadata": {
        "id": "632Ox_gGuNti",
        "colab_type": "code",
        "colab": {}
      },
      "source": [
        "# データ結合\n",
        "import pandas as pd\n",
        "\n",
        "tsv_files = ['np_ur_.tsv', 'lucky_CandR.tsv']\n",
        "list = []\n",
        "\n",
        "for file in tsv_files:\n",
        "    list.append(pd.read_csv(file, delimiter='\\t', header=None))\n",
        "df = pd.concat(list, sort=False)\n",
        "\n",
        "df.to_csv( 'tweets.tsv', sep='\\t',index=False)"
      ],
      "execution_count": 0,
      "outputs": []
    },
    {
      "cell_type": "code",
      "metadata": {
        "id": "iUo5GZOG3JuI",
        "colab_type": "code",
        "colab": {}
      },
      "source": [
        "files.download('tweets.tsv')"
      ],
      "execution_count": 0,
      "outputs": []
    },
    {
      "cell_type": "code",
      "metadata": {
        "id": "ZkWD27Pm4D_j",
        "colab_type": "code",
        "colab": {}
      },
      "source": [
        ""
      ],
      "execution_count": 0,
      "outputs": []
    }
  ]
}