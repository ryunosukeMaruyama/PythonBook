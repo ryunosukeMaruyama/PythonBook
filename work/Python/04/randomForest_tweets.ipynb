{
  "nbformat": 4,
  "nbformat_minor": 0,
  "metadata": {
    "colab": {
      "name": "Ch04-Tweet-RandomForest.ipynb",
      "version": "0.3.2",
      "provenance": [],
      "collapsed_sections": []
    },
    "kernelspec": {
      "name": "python3",
      "display_name": "Python 3"
    }
  },
  "cells": [
    {
      "cell_type": "code",
      "metadata": {
        "id": "kSb7IeHmFcWW",
        "colab_type": "code",
        "colab": {}
      },
      "source": [
        "import numpy as np\n",
        "import pandas as pd\n",
        "import matplotlib.pyplot as plt\n",
        "%matplotlib inline\n",
        "\n",
        "from sklearn.ensemble import RandomForestClassifier\n",
        "from sklearn.model_selection import train_test_split\n",
        "from sklearn.metrics import accuracy_score\n",
        "from sklearn.feature_extraction.text import TfidfVectorizer"
      ],
      "execution_count": 0,
      "outputs": []
    },
    {
      "cell_type": "code",
      "metadata": {
        "id": "hHujZz1fFwJK",
        "colab_type": "code",
        "colab": {}
      },
      "source": [
        "# mecabインストール\n",
        "!apt install aptitude\n",
        "!aptitude install mecab libmecab-dev mecab-ipadic-utf8 git make curl xz-utils file -y\n",
        "\n",
        "# mecab pythonインストール（pythonでmecabを動かすために必要)\n",
        "!pip install mecab-python3==0.7\n",
        "\n",
        "# neologd辞書インストール\n",
        "!git clone --depth 1 https://github.com/neologd/mecab-ipadic-neologd.git\n",
        "!echo yes | mecab-ipadic-neologd/bin/install-mecab-ipadic-neologd -n\n",
        "\n",
        "# 辞書変更\n",
        "!sed -e \"s!/var/lib/mecab/dic/debian!/usr/lib/x86_64-linux-gnu/mecab/dic/mecab-ipadic-neologd!g\" /etc/mecabrc > /etc/mecabrc.new\n",
        "!cp /etc/mecabrc /etc/mecabrc.org\n",
        "!cp /etc/mecabrc.new /etc/mecabrc\n",
        "\n",
        "import MeCab"
      ],
      "execution_count": 0,
      "outputs": []
    },
    {
      "cell_type": "markdown",
      "metadata": {
        "id": "hqNNWh9YTaAC",
        "colab_type": "text"
      },
      "source": [
        "## データ読み込み"
      ]
    },
    {
      "cell_type": "code",
      "metadata": {
        "id": "ATIL0zuqTbt5",
        "colab_type": "code",
        "colab": {}
      },
      "source": [
        "data_tweet = pd.read_csv('tweets.tsv',  sep=\"\\t\")\n",
        "data_tweet = data_tweet.dropna()\n",
        "Y = data_tweet.iloc[:,1].values\n",
        "\n",
        "print(data_tweet.head())"
      ],
      "execution_count": 0,
      "outputs": []
    },
    {
      "cell_type": "code",
      "metadata": {
        "id": "ThOUKPvPTb2W",
        "colab_type": "code",
        "colab": {}
      },
      "source": [
        "tagger = MeCab.Tagger()\n",
        "tagger.parse('')\n",
        "\n",
        "# 文字列を単語で分割しリストに格納する\n",
        "def word_tokenaize(texts):\n",
        "    node = tagger.parseToNode(texts)\n",
        "    word_list = []\n",
        "    while node:\n",
        "        word_type = node.feature.split(\",\")[0]\n",
        "        if (word_type == '名詞'):#|(word_type == '形容詞'):\n",
        "            word = node.feature.split(\",\")[6]\n",
        "            if word != '*':\n",
        "              word_list.append(word)\n",
        "        node = node.next\n",
        "\n",
        "    return word_list"
      ],
      "execution_count": 0,
      "outputs": []
    },
    {
      "cell_type": "code",
      "metadata": {
        "id": "dKukpU80UAFx",
        "colab_type": "code",
        "colab": {}
      },
      "source": [
        "vectorizer = TfidfVectorizer(tokenizer=word_tokenaize)\n",
        "\n",
        "tweet_matrix = vectorizer.fit_transform(data_tweet.iloc[:,0])\n",
        "X = tweet_matrix.toarray()"
      ],
      "execution_count": 0,
      "outputs": []
    },
    {
      "cell_type": "code",
      "metadata": {
        "id": "3aJTcqZYoXsb",
        "colab_type": "code",
        "colab": {}
      },
      "source": [
        "X_train, X_test, y_train, y_test = train_test_split(X, Y, test_size=0.3)"
      ],
      "execution_count": 0,
      "outputs": []
    },
    {
      "cell_type": "markdown",
      "metadata": {
        "id": "CpGVPa-AHbLE",
        "colab_type": "text"
      },
      "source": [
        "## ランダムフォレストを実践"
      ]
    },
    {
      "cell_type": "code",
      "metadata": {
        "id": "pnWZvrnNHAOB",
        "colab_type": "code",
        "colab": {}
      },
      "source": [
        "clf = RandomForestClassifier(n_estimators= 50, max_depth=20)"
      ],
      "execution_count": 0,
      "outputs": []
    },
    {
      "cell_type": "code",
      "metadata": {
        "id": "rZ3TQB9uHdQV",
        "colab_type": "code",
        "colab": {}
      },
      "source": [
        "# 学習\n",
        "clf.fit(X_train, y_train)\n",
        "\n",
        "# 評価\n",
        "y_pred = clf.predict(X_test)\n",
        "print(accuracy_score(y_test, y_pred))"
      ],
      "execution_count": 0,
      "outputs": []
    },
    {
      "cell_type": "markdown",
      "metadata": {
        "id": "3LoiTrkzRn9u",
        "colab_type": "text"
      },
      "source": [
        "### 可視化"
      ]
    },
    {
      "cell_type": "code",
      "metadata": {
        "id": "0ou82IgHRF9v",
        "colab_type": "code",
        "colab": {}
      },
      "source": [
        "words_list = vectorizer.get_feature_names()\n",
        "\n",
        "features = np.array(np.arange(0,len(words_list)))\n",
        "# 特徴量の重要度\n",
        "importances = clf.feature_importances_"
      ],
      "execution_count": 0,
      "outputs": []
    },
    {
      "cell_type": "code",
      "metadata": {
        "id": "M57MOkkcRo8H",
        "colab_type": "code",
        "colab": {}
      },
      "source": [
        "indices = np.argsort(importances)[-11:]\n",
        "plt.figure(figsize=(6,6))\n",
        "plt.barh(range(len(indices)), importances[indices], color='b', align='center')\n",
        "plt.yticks(range(len(indices)), features[indices])\n",
        "#plt.show()\n",
        "plt.savefig('rf_importance_tweet.png')"
      ],
      "execution_count": 0,
      "outputs": []
    },
    {
      "cell_type": "code",
      "metadata": {
        "id": "8Ge1rhSVRuMJ",
        "colab_type": "code",
        "colab": {}
      },
      "source": [
        "for i in indices:\n",
        "  print(i, words_list[i])"
      ],
      "execution_count": 0,
      "outputs": []
    },
    {
      "cell_type": "code",
      "metadata": {
        "id": "IGZ0BlFxdrSQ",
        "colab_type": "code",
        "colab": {}
      },
      "source": [
        ""
      ],
      "execution_count": 0,
      "outputs": []
    },
    {
      "cell_type": "code",
      "metadata": {
        "id": "FYf6-GFRhgV8",
        "colab_type": "code",
        "colab": {}
      },
      "source": [
        ""
      ],
      "execution_count": 0,
      "outputs": []
    }
  ]
}