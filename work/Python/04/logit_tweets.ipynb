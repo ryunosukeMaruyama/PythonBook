{
  "nbformat": 4,
  "nbformat_minor": 0,
  "metadata": {
    "colab": {
      "name": "Ch04-Tweet-logit_2.ipynb",
      "version": "0.3.2",
      "provenance": [],
      "collapsed_sections": [],
      "toc_visible": true
    },
    "kernelspec": {
      "name": "python3",
      "display_name": "Python 3"
    }
  },
  "cells": [
    {
      "cell_type": "code",
      "metadata": {
        "id": "L_FdzJMz8TR7",
        "colab_type": "code",
        "colab": {}
      },
      "source": [
        "import numpy as np\n",
        "import pandas as pd\n",
        "import matplotlib.pyplot as plt\n",
        "%matplotlib inline\n",
        "\n",
        "from sklearn.datasets import load_iris\n",
        "from sklearn.linear_model import LogisticRegression\n",
        "from sklearn.metrics import accuracy_score\n",
        "from sklearn.model_selection import train_test_split\n",
        "\n",
        "from sklearn.feature_extraction.text import TfidfVectorizer"
      ],
      "execution_count": 0,
      "outputs": []
    },
    {
      "cell_type": "code",
      "metadata": {
        "id": "vlvlKilesNjB",
        "colab_type": "code",
        "colab": {}
      },
      "source": [
        "# mecabインストール\n",
        "!apt install aptitude\n",
        "!aptitude install mecab libmecab-dev mecab-ipadic-utf8 git make curl xz-utils file -y\n",
        "\n",
        "# mecab pythonインストール（pythonでmecabを動かすために必要)\n",
        "!pip install mecab-python3==0.7\n",
        "\n",
        "# neologd辞書インストール\n",
        "!git clone --depth 1 https://github.com/neologd/mecab-ipadic-neologd.git\n",
        "!echo yes | mecab-ipadic-neologd/bin/install-mecab-ipadic-neologd -n\n",
        "\n",
        "# 辞書変更\n",
        "!sed -e \"s!/var/lib/mecab/dic/debian!/usr/lib/x86_64-linux-gnu/mecab/dic/mecab-ipadic-neologd!g\" /etc/mecabrc > /etc/mecabrc.new\n",
        "!cp /etc/mecabrc /etc/mecabrc.org\n",
        "!cp /etc/mecabrc.new /etc/mecabrc\n",
        "\n",
        "import MeCab"
      ],
      "execution_count": 0,
      "outputs": []
    },
    {
      "cell_type": "markdown",
      "metadata": {
        "id": "G3NXk634sC9Q",
        "colab_type": "text"
      },
      "source": [
        "## データ読み込み"
      ]
    },
    {
      "cell_type": "code",
      "metadata": {
        "id": "OHO3YkrxiwTe",
        "colab_type": "code",
        "colab": {}
      },
      "source": [
        "data_tweet = pd.read_csv('tweets.tsv',  sep=\"\\t\")\n",
        "data_tweet = data_tweet.dropna()\n",
        "Y = data_tweet.iloc[:,1].values\n",
        "\n",
        "print(data_tweet.head())"
      ],
      "execution_count": 0,
      "outputs": []
    },
    {
      "cell_type": "code",
      "metadata": {
        "id": "n1oDBaWYsExp",
        "colab_type": "code",
        "colab": {}
      },
      "source": [
        "tagger = MeCab.Tagger()\n",
        "tagger.parse('')\n",
        "\n",
        "# 文字列を単語で分割しリストに格納する\n",
        "def word_tokenaize(texts):\n",
        "    node = tagger.parseToNode(texts)\n",
        "    word_list = []\n",
        "    while node:\n",
        "        word_type = node.feature.split(\",\")[0]\n",
        "        if (word_type == '名詞')|(word_type == '形容詞'):\n",
        "            word = node.feature.split(\",\")[6]\n",
        "            if word != '*':\n",
        "              word_list.append(word)\n",
        "        node = node.next\n",
        "\n",
        "    return word_list"
      ],
      "execution_count": 0,
      "outputs": []
    },
    {
      "cell_type": "code",
      "metadata": {
        "id": "yJ-jlDAquhmp",
        "colab_type": "code",
        "colab": {}
      },
      "source": [
        "vectorizer = TfidfVectorizer(tokenizer=word_tokenaize)\n",
        "\n",
        "tweet_matrix = vectorizer.fit_transform(data_tweet.iloc[:,0])\n",
        "X = tweet_matrix.toarray()\n",
        "print(X.shape)"
      ],
      "execution_count": 0,
      "outputs": []
    },
    {
      "cell_type": "markdown",
      "metadata": {
        "id": "QIJD4zzzcJ6r",
        "colab_type": "text"
      },
      "source": [
        "## ロジスティック回帰を実践"
      ]
    },
    {
      "cell_type": "code",
      "metadata": {
        "id": "Zj9MXim3vasH",
        "colab_type": "code",
        "colab": {}
      },
      "source": [
        "X_train, X_test, y_train, y_test = train_test_split(X, Y, test_size=0.2)\n",
        "\n",
        "logit_multi2 = LogisticRegression()\n",
        "logit_multi2.fit(X_train, y_train)\n",
        "\n",
        "print(logit_multi2.coef_)\n",
        "print(logit_multi2.intercept_)"
      ],
      "execution_count": 0,
      "outputs": []
    },
    {
      "cell_type": "code",
      "metadata": {
        "id": "kCbO0ucmvzD_",
        "colab_type": "code",
        "colab": {}
      },
      "source": [
        "y_pred = logit_multi2.predict(X_test)\n",
        "print(accuracy_score(y_test, y_pred))"
      ],
      "execution_count": 0,
      "outputs": []
    },
    {
      "cell_type": "code",
      "metadata": {
        "id": "VGGJpwP7wS99",
        "colab_type": "code",
        "colab": {}
      },
      "source": [
        ""
      ],
      "execution_count": 0,
      "outputs": []
    }
  ]
}